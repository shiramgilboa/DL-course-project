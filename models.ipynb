{
  "cells": [
    {
      "cell_type": "code",
      "execution_count": 1,
      "metadata": {
        "colab": {
          "base_uri": "https://localhost:8080/"
        },
        "id": "Z8zp2TrfAdp4",
        "outputId": "0927ff7b-030d-4f13-e381-671280858c74"
      },
      "outputs": [
        {
          "output_type": "stream",
          "name": "stdout",
          "text": [
            "Looking in indexes: https://pypi.org/simple, https://us-python.pkg.dev/colab-wheels/public/simple/\n",
            "Collecting pytorch-tabnet\n",
            "  Downloading pytorch_tabnet-4.0-py3-none-any.whl (41 kB)\n",
            "\u001b[2K     \u001b[90m━━━━━━━━━━━━━━━━━━━━━━━━━━━━━━━━━━━━━━━━\u001b[0m \u001b[32m41.8/41.8 KB\u001b[0m \u001b[31m1.8 MB/s\u001b[0m eta \u001b[36m0:00:00\u001b[0m\n",
            "\u001b[?25hRequirement already satisfied: numpy<2.0,>=1.17 in /usr/local/lib/python3.8/dist-packages (from pytorch-tabnet) (1.21.6)\n",
            "Requirement already satisfied: tqdm<5.0,>=4.36 in /usr/local/lib/python3.8/dist-packages (from pytorch-tabnet) (4.64.1)\n",
            "Requirement already satisfied: scipy>1.4 in /usr/local/lib/python3.8/dist-packages (from pytorch-tabnet) (1.7.3)\n",
            "Requirement already satisfied: torch<2.0,>=1.2 in /usr/local/lib/python3.8/dist-packages (from pytorch-tabnet) (1.13.1+cu116)\n",
            "Requirement already satisfied: scikit_learn>0.21 in /usr/local/lib/python3.8/dist-packages (from pytorch-tabnet) (1.0.2)\n",
            "Requirement already satisfied: joblib>=0.11 in /usr/local/lib/python3.8/dist-packages (from scikit_learn>0.21->pytorch-tabnet) (1.2.0)\n",
            "Requirement already satisfied: threadpoolctl>=2.0.0 in /usr/local/lib/python3.8/dist-packages (from scikit_learn>0.21->pytorch-tabnet) (3.1.0)\n",
            "Requirement already satisfied: typing-extensions in /usr/local/lib/python3.8/dist-packages (from torch<2.0,>=1.2->pytorch-tabnet) (4.4.0)\n",
            "Installing collected packages: pytorch-tabnet\n",
            "Successfully installed pytorch-tabnet-4.0\n"
          ]
        }
      ],
      "source": [
        "pip install pytorch-tabnet"
      ]
    },
    {
      "cell_type": "code",
      "source": [
        "# ====== Packages =======\n",
        "import numpy as np\n",
        "import pandas as pd\n",
        "import torch\n",
        "import matplotlib.pyplot as plt\n",
        "import seaborn as sns\n",
        "import sklearn as sk\n",
        "from prettytable import PrettyTable\n",
        "from tqdm import tqdm\n",
        "\n",
        "# ---- data manipulators ----\n",
        "from sklearn.model_selection import StratifiedShuffleSplit\n",
        "from sklearn.utils import resample\n",
        "import torch\n",
        "import torch.nn as nn\n",
        "import torch.nn.functional as F\n",
        "import torch.optim as optim\n",
        "\n",
        "# ---- algorithms ----\n",
        "import xgboost as xgb\n",
        "import pytorch_tabnet\n",
        "from pytorch_tabnet.tab_model import TabNetClassifier\n",
        "\n",
        "# ---- evaluation ------\n",
        "from sklearn.metrics import accuracy_score, f1_score, recall_score, precision_score, RocCurveDisplay, roc_curve, precision_recall_curve\n",
        "\n",
        "# ---- user defined modules ----\n",
        "import pre_proccessing_helpers as hel\n",
        "import models_helpers as mh\n",
        "\n",
        "# This line makes matplotlib plot the figures inside the norebook\n",
        "%matplotlib inline\n",
        "\n",
        "plt.rcParams['figure.figsize'] = (8.0, 8.0)\n",
        "plt.rcParams['axes.grid'] = True\n",
        "plt.rcParams['font.size'] = 10"
      ],
      "metadata": {
        "id": "x5zrkkEKAwYm"
      },
      "execution_count": 2,
      "outputs": []
    },
    {
      "cell_type": "code",
      "execution_count": 3,
      "metadata": {
        "colab": {
          "base_uri": "https://localhost:8080/",
          "height": 488
        },
        "id": "DJxovKk9Adp6",
        "outputId": "c0070a4a-2b8f-4e3d-d96e-0805e6de6edc"
      },
      "outputs": [
        {
          "output_type": "execute_result",
          "data": {
            "text/plain": [
              "         USMER  MEDICAL_UNIT  SEX  PATIENT_TYPE  INTUBED  PNEUMONIA  AGE  \\\n",
              "0            0             0    1             1        0          1    1   \n",
              "1            0             0    0             1        0          1    1   \n",
              "2            0             0    0             0        1          0    0   \n",
              "3            0             0    1             1        0          0    0   \n",
              "4            0             0    0             1        0          0    1   \n",
              "...        ...           ...  ...           ...      ...        ...  ...   \n",
              "1019661      0             0    0             1        0          0    0   \n",
              "1019662      1             0    0             0        0          0    0   \n",
              "1019663      0             0    0             1        0          0    0   \n",
              "1019664      0             0    0             1        0          0    0   \n",
              "1019665      0             0    0             1        0          0    0   \n",
              "\n",
              "         PREGNANT  DIABETES  COPD  ...  INMSUPR  HIPERTENSION  OTHER_DISEASE  \\\n",
              "0               0         0     0  ...        0             1              0   \n",
              "1               0         0     0  ...        0             1              0   \n",
              "2               0         1     0  ...        0             0              0   \n",
              "3               0         0     0  ...        0             0              0   \n",
              "4               0         1     0  ...        0             1              0   \n",
              "...           ...       ...   ...  ...      ...           ...            ...   \n",
              "1019661         0         0     0  ...        0             0              0   \n",
              "1019662         0         0     0  ...        0             1              0   \n",
              "1019663         0         0     0  ...        0             0              0   \n",
              "1019664         0         0     0  ...        0             0              0   \n",
              "1019665         0         0     0  ...        0             0              0   \n",
              "\n",
              "         CARDIOVASCULAR  OBESITY  RENAL_CHRONIC  TOBACCO  \\\n",
              "0                     0        0              0        0   \n",
              "1                     0        1              1        0   \n",
              "2                     0        0              0        0   \n",
              "3                     0        0              0        0   \n",
              "4                     0        0              0        0   \n",
              "...                 ...      ...            ...      ...   \n",
              "1019661               0        0              0        0   \n",
              "1019662               0        0              0        0   \n",
              "1019663               0        0              0        0   \n",
              "1019664               0        0              0        0   \n",
              "1019665               0        0              0        0   \n",
              "\n",
              "         CLASIFFICATION_FINAL  ICU  DATE_DIED  \n",
              "0                           1    0          1  \n",
              "1                           0    0          1  \n",
              "2                           1    0          1  \n",
              "3                           0    0          1  \n",
              "4                           1    0          1  \n",
              "...                       ...  ...        ...  \n",
              "1019661                     0    0          0  \n",
              "1019662                     0    0          0  \n",
              "1019663                     0    0          0  \n",
              "1019664                     0    0          0  \n",
              "1019665                     0    0          0  \n",
              "\n",
              "[1019666 rows x 21 columns]"
            ],
            "text/html": [
              "\n",
              "  <div id=\"df-f80c012e-ecdc-4e6e-b298-40e3186135a8\">\n",
              "    <div class=\"colab-df-container\">\n",
              "      <div>\n",
              "<style scoped>\n",
              "    .dataframe tbody tr th:only-of-type {\n",
              "        vertical-align: middle;\n",
              "    }\n",
              "\n",
              "    .dataframe tbody tr th {\n",
              "        vertical-align: top;\n",
              "    }\n",
              "\n",
              "    .dataframe thead th {\n",
              "        text-align: right;\n",
              "    }\n",
              "</style>\n",
              "<table border=\"1\" class=\"dataframe\">\n",
              "  <thead>\n",
              "    <tr style=\"text-align: right;\">\n",
              "      <th></th>\n",
              "      <th>USMER</th>\n",
              "      <th>MEDICAL_UNIT</th>\n",
              "      <th>SEX</th>\n",
              "      <th>PATIENT_TYPE</th>\n",
              "      <th>INTUBED</th>\n",
              "      <th>PNEUMONIA</th>\n",
              "      <th>AGE</th>\n",
              "      <th>PREGNANT</th>\n",
              "      <th>DIABETES</th>\n",
              "      <th>COPD</th>\n",
              "      <th>...</th>\n",
              "      <th>INMSUPR</th>\n",
              "      <th>HIPERTENSION</th>\n",
              "      <th>OTHER_DISEASE</th>\n",
              "      <th>CARDIOVASCULAR</th>\n",
              "      <th>OBESITY</th>\n",
              "      <th>RENAL_CHRONIC</th>\n",
              "      <th>TOBACCO</th>\n",
              "      <th>CLASIFFICATION_FINAL</th>\n",
              "      <th>ICU</th>\n",
              "      <th>DATE_DIED</th>\n",
              "    </tr>\n",
              "  </thead>\n",
              "  <tbody>\n",
              "    <tr>\n",
              "      <th>0</th>\n",
              "      <td>0</td>\n",
              "      <td>0</td>\n",
              "      <td>1</td>\n",
              "      <td>1</td>\n",
              "      <td>0</td>\n",
              "      <td>1</td>\n",
              "      <td>1</td>\n",
              "      <td>0</td>\n",
              "      <td>0</td>\n",
              "      <td>0</td>\n",
              "      <td>...</td>\n",
              "      <td>0</td>\n",
              "      <td>1</td>\n",
              "      <td>0</td>\n",
              "      <td>0</td>\n",
              "      <td>0</td>\n",
              "      <td>0</td>\n",
              "      <td>0</td>\n",
              "      <td>1</td>\n",
              "      <td>0</td>\n",
              "      <td>1</td>\n",
              "    </tr>\n",
              "    <tr>\n",
              "      <th>1</th>\n",
              "      <td>0</td>\n",
              "      <td>0</td>\n",
              "      <td>0</td>\n",
              "      <td>1</td>\n",
              "      <td>0</td>\n",
              "      <td>1</td>\n",
              "      <td>1</td>\n",
              "      <td>0</td>\n",
              "      <td>0</td>\n",
              "      <td>0</td>\n",
              "      <td>...</td>\n",
              "      <td>0</td>\n",
              "      <td>1</td>\n",
              "      <td>0</td>\n",
              "      <td>0</td>\n",
              "      <td>1</td>\n",
              "      <td>1</td>\n",
              "      <td>0</td>\n",
              "      <td>0</td>\n",
              "      <td>0</td>\n",
              "      <td>1</td>\n",
              "    </tr>\n",
              "    <tr>\n",
              "      <th>2</th>\n",
              "      <td>0</td>\n",
              "      <td>0</td>\n",
              "      <td>0</td>\n",
              "      <td>0</td>\n",
              "      <td>1</td>\n",
              "      <td>0</td>\n",
              "      <td>0</td>\n",
              "      <td>0</td>\n",
              "      <td>1</td>\n",
              "      <td>0</td>\n",
              "      <td>...</td>\n",
              "      <td>0</td>\n",
              "      <td>0</td>\n",
              "      <td>0</td>\n",
              "      <td>0</td>\n",
              "      <td>0</td>\n",
              "      <td>0</td>\n",
              "      <td>0</td>\n",
              "      <td>1</td>\n",
              "      <td>0</td>\n",
              "      <td>1</td>\n",
              "    </tr>\n",
              "    <tr>\n",
              "      <th>3</th>\n",
              "      <td>0</td>\n",
              "      <td>0</td>\n",
              "      <td>1</td>\n",
              "      <td>1</td>\n",
              "      <td>0</td>\n",
              "      <td>0</td>\n",
              "      <td>0</td>\n",
              "      <td>0</td>\n",
              "      <td>0</td>\n",
              "      <td>0</td>\n",
              "      <td>...</td>\n",
              "      <td>0</td>\n",
              "      <td>0</td>\n",
              "      <td>0</td>\n",
              "      <td>0</td>\n",
              "      <td>0</td>\n",
              "      <td>0</td>\n",
              "      <td>0</td>\n",
              "      <td>0</td>\n",
              "      <td>0</td>\n",
              "      <td>1</td>\n",
              "    </tr>\n",
              "    <tr>\n",
              "      <th>4</th>\n",
              "      <td>0</td>\n",
              "      <td>0</td>\n",
              "      <td>0</td>\n",
              "      <td>1</td>\n",
              "      <td>0</td>\n",
              "      <td>0</td>\n",
              "      <td>1</td>\n",
              "      <td>0</td>\n",
              "      <td>1</td>\n",
              "      <td>0</td>\n",
              "      <td>...</td>\n",
              "      <td>0</td>\n",
              "      <td>1</td>\n",
              "      <td>0</td>\n",
              "      <td>0</td>\n",
              "      <td>0</td>\n",
              "      <td>0</td>\n",
              "      <td>0</td>\n",
              "      <td>1</td>\n",
              "      <td>0</td>\n",
              "      <td>1</td>\n",
              "    </tr>\n",
              "    <tr>\n",
              "      <th>...</th>\n",
              "      <td>...</td>\n",
              "      <td>...</td>\n",
              "      <td>...</td>\n",
              "      <td>...</td>\n",
              "      <td>...</td>\n",
              "      <td>...</td>\n",
              "      <td>...</td>\n",
              "      <td>...</td>\n",
              "      <td>...</td>\n",
              "      <td>...</td>\n",
              "      <td>...</td>\n",
              "      <td>...</td>\n",
              "      <td>...</td>\n",
              "      <td>...</td>\n",
              "      <td>...</td>\n",
              "      <td>...</td>\n",
              "      <td>...</td>\n",
              "      <td>...</td>\n",
              "      <td>...</td>\n",
              "      <td>...</td>\n",
              "      <td>...</td>\n",
              "    </tr>\n",
              "    <tr>\n",
              "      <th>1019661</th>\n",
              "      <td>0</td>\n",
              "      <td>0</td>\n",
              "      <td>0</td>\n",
              "      <td>1</td>\n",
              "      <td>0</td>\n",
              "      <td>0</td>\n",
              "      <td>0</td>\n",
              "      <td>0</td>\n",
              "      <td>0</td>\n",
              "      <td>0</td>\n",
              "      <td>...</td>\n",
              "      <td>0</td>\n",
              "      <td>0</td>\n",
              "      <td>0</td>\n",
              "      <td>0</td>\n",
              "      <td>0</td>\n",
              "      <td>0</td>\n",
              "      <td>0</td>\n",
              "      <td>0</td>\n",
              "      <td>0</td>\n",
              "      <td>0</td>\n",
              "    </tr>\n",
              "    <tr>\n",
              "      <th>1019662</th>\n",
              "      <td>1</td>\n",
              "      <td>0</td>\n",
              "      <td>0</td>\n",
              "      <td>0</td>\n",
              "      <td>0</td>\n",
              "      <td>0</td>\n",
              "      <td>0</td>\n",
              "      <td>0</td>\n",
              "      <td>0</td>\n",
              "      <td>0</td>\n",
              "      <td>...</td>\n",
              "      <td>0</td>\n",
              "      <td>1</td>\n",
              "      <td>0</td>\n",
              "      <td>0</td>\n",
              "      <td>0</td>\n",
              "      <td>0</td>\n",
              "      <td>0</td>\n",
              "      <td>0</td>\n",
              "      <td>0</td>\n",
              "      <td>0</td>\n",
              "    </tr>\n",
              "    <tr>\n",
              "      <th>1019663</th>\n",
              "      <td>0</td>\n",
              "      <td>0</td>\n",
              "      <td>0</td>\n",
              "      <td>1</td>\n",
              "      <td>0</td>\n",
              "      <td>0</td>\n",
              "      <td>0</td>\n",
              "      <td>0</td>\n",
              "      <td>0</td>\n",
              "      <td>0</td>\n",
              "      <td>...</td>\n",
              "      <td>0</td>\n",
              "      <td>0</td>\n",
              "      <td>0</td>\n",
              "      <td>0</td>\n",
              "      <td>0</td>\n",
              "      <td>0</td>\n",
              "      <td>0</td>\n",
              "      <td>0</td>\n",
              "      <td>0</td>\n",
              "      <td>0</td>\n",
              "    </tr>\n",
              "    <tr>\n",
              "      <th>1019664</th>\n",
              "      <td>0</td>\n",
              "      <td>0</td>\n",
              "      <td>0</td>\n",
              "      <td>1</td>\n",
              "      <td>0</td>\n",
              "      <td>0</td>\n",
              "      <td>0</td>\n",
              "      <td>0</td>\n",
              "      <td>0</td>\n",
              "      <td>0</td>\n",
              "      <td>...</td>\n",
              "      <td>0</td>\n",
              "      <td>0</td>\n",
              "      <td>0</td>\n",
              "      <td>0</td>\n",
              "      <td>0</td>\n",
              "      <td>0</td>\n",
              "      <td>0</td>\n",
              "      <td>0</td>\n",
              "      <td>0</td>\n",
              "      <td>0</td>\n",
              "    </tr>\n",
              "    <tr>\n",
              "      <th>1019665</th>\n",
              "      <td>0</td>\n",
              "      <td>0</td>\n",
              "      <td>0</td>\n",
              "      <td>1</td>\n",
              "      <td>0</td>\n",
              "      <td>0</td>\n",
              "      <td>0</td>\n",
              "      <td>0</td>\n",
              "      <td>0</td>\n",
              "      <td>0</td>\n",
              "      <td>...</td>\n",
              "      <td>0</td>\n",
              "      <td>0</td>\n",
              "      <td>0</td>\n",
              "      <td>0</td>\n",
              "      <td>0</td>\n",
              "      <td>0</td>\n",
              "      <td>0</td>\n",
              "      <td>0</td>\n",
              "      <td>0</td>\n",
              "      <td>0</td>\n",
              "    </tr>\n",
              "  </tbody>\n",
              "</table>\n",
              "<p>1019666 rows × 21 columns</p>\n",
              "</div>\n",
              "      <button class=\"colab-df-convert\" onclick=\"convertToInteractive('df-f80c012e-ecdc-4e6e-b298-40e3186135a8')\"\n",
              "              title=\"Convert this dataframe to an interactive table.\"\n",
              "              style=\"display:none;\">\n",
              "        \n",
              "  <svg xmlns=\"http://www.w3.org/2000/svg\" height=\"24px\"viewBox=\"0 0 24 24\"\n",
              "       width=\"24px\">\n",
              "    <path d=\"M0 0h24v24H0V0z\" fill=\"none\"/>\n",
              "    <path d=\"M18.56 5.44l.94 2.06.94-2.06 2.06-.94-2.06-.94-.94-2.06-.94 2.06-2.06.94zm-11 1L8.5 8.5l.94-2.06 2.06-.94-2.06-.94L8.5 2.5l-.94 2.06-2.06.94zm10 10l.94 2.06.94-2.06 2.06-.94-2.06-.94-.94-2.06-.94 2.06-2.06.94z\"/><path d=\"M17.41 7.96l-1.37-1.37c-.4-.4-.92-.59-1.43-.59-.52 0-1.04.2-1.43.59L10.3 9.45l-7.72 7.72c-.78.78-.78 2.05 0 2.83L4 21.41c.39.39.9.59 1.41.59.51 0 1.02-.2 1.41-.59l7.78-7.78 2.81-2.81c.8-.78.8-2.07 0-2.86zM5.41 20L4 18.59l7.72-7.72 1.47 1.35L5.41 20z\"/>\n",
              "  </svg>\n",
              "      </button>\n",
              "      \n",
              "  <style>\n",
              "    .colab-df-container {\n",
              "      display:flex;\n",
              "      flex-wrap:wrap;\n",
              "      gap: 12px;\n",
              "    }\n",
              "\n",
              "    .colab-df-convert {\n",
              "      background-color: #E8F0FE;\n",
              "      border: none;\n",
              "      border-radius: 50%;\n",
              "      cursor: pointer;\n",
              "      display: none;\n",
              "      fill: #1967D2;\n",
              "      height: 32px;\n",
              "      padding: 0 0 0 0;\n",
              "      width: 32px;\n",
              "    }\n",
              "\n",
              "    .colab-df-convert:hover {\n",
              "      background-color: #E2EBFA;\n",
              "      box-shadow: 0px 1px 2px rgba(60, 64, 67, 0.3), 0px 1px 3px 1px rgba(60, 64, 67, 0.15);\n",
              "      fill: #174EA6;\n",
              "    }\n",
              "\n",
              "    [theme=dark] .colab-df-convert {\n",
              "      background-color: #3B4455;\n",
              "      fill: #D2E3FC;\n",
              "    }\n",
              "\n",
              "    [theme=dark] .colab-df-convert:hover {\n",
              "      background-color: #434B5C;\n",
              "      box-shadow: 0px 1px 3px 1px rgba(0, 0, 0, 0.15);\n",
              "      filter: drop-shadow(0px 1px 2px rgba(0, 0, 0, 0.3));\n",
              "      fill: #FFFFFF;\n",
              "    }\n",
              "  </style>\n",
              "\n",
              "      <script>\n",
              "        const buttonEl =\n",
              "          document.querySelector('#df-f80c012e-ecdc-4e6e-b298-40e3186135a8 button.colab-df-convert');\n",
              "        buttonEl.style.display =\n",
              "          google.colab.kernel.accessAllowed ? 'block' : 'none';\n",
              "\n",
              "        async function convertToInteractive(key) {\n",
              "          const element = document.querySelector('#df-f80c012e-ecdc-4e6e-b298-40e3186135a8');\n",
              "          const dataTable =\n",
              "            await google.colab.kernel.invokeFunction('convertToInteractive',\n",
              "                                                     [key], {});\n",
              "          if (!dataTable) return;\n",
              "\n",
              "          const docLinkHtml = 'Like what you see? Visit the ' +\n",
              "            '<a target=\"_blank\" href=https://colab.research.google.com/notebooks/data_table.ipynb>data table notebook</a>'\n",
              "            + ' to learn more about interactive tables.';\n",
              "          element.innerHTML = '';\n",
              "          dataTable['output_type'] = 'display_data';\n",
              "          await google.colab.output.renderOutput(dataTable, element);\n",
              "          const docLink = document.createElement('div');\n",
              "          docLink.innerHTML = docLinkHtml;\n",
              "          element.appendChild(docLink);\n",
              "        }\n",
              "      </script>\n",
              "    </div>\n",
              "  </div>\n",
              "  "
            ]
          },
          "metadata": {},
          "execution_count": 3
        }
      ],
      "source": [
        "# taking a look at the data\n",
        "\n",
        "dataset = pd.read_csv(\"data/preprocessed_data.csv\") # importing pre-processed dataset\n",
        "dataset"
      ]
    },
    {
      "cell_type": "markdown",
      "metadata": {
        "id": "QbjmvH12Adp6"
      },
      "source": [
        "## Sampling Techniques"
      ]
    },
    {
      "cell_type": "code",
      "execution_count": 6,
      "metadata": {
        "id": "ta4vOplnAdp7"
      },
      "outputs": [],
      "source": [
        "# up and down sampling\n",
        "X_train, y_train, X_test, y_test = mh.data_split(dataset ,n_splits=1, test_size=0.2, train_size=0.8)\n",
        "X_train_up, y_train_up = mh.up_down_sampling(X_train.__deepcopy__(), y_train.__deepcopy__(), ratio=1, up=True)\n",
        "X_train_down, y_train_down = mh.up_down_sampling(X_train.__deepcopy__(), y_train.__deepcopy__(), ratio=1, up=False)\n",
        "\n",
        "data_test = pd.concat([X_test, y_test], axis=1)\n",
        "X_test, y_test, X_val, y_val = mh.data_split(data_test , n_splits=1, test_size=0.5, train_size=0.5)"
      ]
    },
    {
      "cell_type": "code",
      "execution_count": 7,
      "metadata": {
        "colab": {
          "base_uri": "https://localhost:8080/"
        },
        "id": "7kqps4N3Adp8",
        "outputId": "14bf1756-53c0-458c-a58d-38c6dff97f41"
      },
      "outputs": [
        {
          "output_type": "stream",
          "name": "stdout",
          "text": [
            "original data labels count:\n",
            "0    757084\n",
            "1     58648\n",
            "Name: DATE_DIED, dtype: int64\n",
            "\n",
            "downsampled data labels count:\n",
            "1    58648\n",
            "0    58648\n",
            "Name: DATE_DIED, dtype: int64\n",
            "\n",
            "upsampled sampling values count:\n",
            "0    757084\n",
            "1    757084\n",
            "Name: DATE_DIED, dtype: int64\n"
          ]
        }
      ],
      "source": [
        "# dataset labels after sampling\n",
        "\n",
        "print(\"original data labels count:\")\n",
        "print(y_train.value_counts())\n",
        "\n",
        "print(\"\\ndownsampled data labels count:\")\n",
        "print(y_train_down.value_counts())\n",
        "\n",
        "print(\"\\nupsampled sampling values count:\")\n",
        "print(y_train_up.value_counts())"
      ]
    },
    {
      "cell_type": "markdown",
      "metadata": {
        "id": "Jl9QrdBvAdp8"
      },
      "source": [
        "## Comparing Different Models "
      ]
    },
    {
      "cell_type": "markdown",
      "metadata": {
        "id": "MjPfkrRmAdp8"
      },
      "source": [
        "---\n",
        "### XGBoost (optimized)"
      ]
    },
    {
      "cell_type": "markdown",
      "metadata": {
        "id": "bnE1rbQ_Adp8"
      },
      "source": [
        "#### original data"
      ]
    },
    {
      "cell_type": "code",
      "execution_count": null,
      "metadata": {
        "colab": {
          "base_uri": "https://localhost:8080/",
          "height": 629
        },
        "id": "jG188W1wAdp9",
        "outputId": "cff88505-7ff4-4042-c4c3-23a423d6431a"
      },
      "outputs": [
        {
          "output_type": "stream",
          "name": "stdout",
          "text": [
            "+--------------+--------------------+\n",
            "|    Metric    |       Score        |\n",
            "+--------------+--------------------+\n",
            "|   accuracy   | 0.9297223611560603 |\n",
            "|    recall    | 0.7966171054426409 |\n",
            "|  presicion   | 0.5071645679548415 |\n",
            "|   f1 score   | 0.6197601613074393 |\n",
            "| f_beta score | 0.7150028159357478 |\n",
            "+--------------+--------------------+\n"
          ]
        },
        {
          "output_type": "display_data",
          "data": {
            "text/plain": [
              "<Figure size 576x576 with 2 Axes>"
            ],
            "image/png": "[encoded data removed]"
          },
          "metadata": {
            "needs_background": "light"
          }
        }
      ],
      "source": [
        "#### downsampled data\n",
        "\n",
        "xgb_post_val = xgb.XGBClassifier(objective='binary:logistic',  eval_metric='aucpr', early_stopping_rounds=10, learning_rate=0.12, max_depth=5, reg_lambda=10.0, gamma=0.25, scale_pos_weight=3)\n",
        "xgb_post_val.fit(X_train, y_train,verbose=False, eval_set=[(X_val, y_val)])\n",
        "xgb_post_val_pred = xgb_post_val.predict(X_test)\n",
        "\n",
        "mh.model_evaluation(y_test, xgb_post_val_pred) "
      ]
    },
    {
      "cell_type": "markdown",
      "metadata": {
        "id": "9qdTDLz2Adp9"
      },
      "source": [
        "#### downsampled data"
      ]
    },
    {
      "cell_type": "code",
      "execution_count": null,
      "metadata": {
        "colab": {
          "base_uri": "https://localhost:8080/",
          "height": 629
        },
        "id": "8c8jbKAKAdp9",
        "outputId": "31b3742f-573b-4de9-c178-e85dd338ee9e"
      },
      "outputs": [
        {
          "output_type": "stream",
          "name": "stdout",
          "text": [
            "+--------------+---------------------+\n",
            "|    Metric    |        Score        |\n",
            "+--------------+---------------------+\n",
            "|   accuracy   |  0.8443908323281062 |\n",
            "|    recall    |  0.9755831400900287 |\n",
            "|  presicion   | 0.31313485113835376 |\n",
            "|   f1 score   |  0.4740976434324351 |\n",
            "| f_beta score |  0.6855302507476421 |\n",
            "+--------------+---------------------+\n"
          ]
        },
        {
          "output_type": "display_data",
          "data": {
            "text/plain": [
              "<Figure size 576x576 with 2 Axes>"
            ],
            "image/png": "[encoded data removed]"
          },
          "metadata": {
            "needs_background": "light"
          }
        }
      ],
      "source": [
        "#### downsampled data\n",
        "\n",
        "xgb_post_val = xgb.XGBClassifier(objective='binary:logistic',  eval_metric='aucpr', early_stopping_rounds=10, learning_rate=0.12, max_depth=5, reg_lambda=10.0, gamma=0.25, scale_pos_weight=3)\n",
        "xgb_post_val.fit(X_train_down, y_train_down,verbose=False, eval_set=[(X_val, y_val)])\n",
        "xgb_post_val_pred = xgb_post_val.predict(X_test)\n",
        "\n",
        "mh.model_evaluation(y_test, xgb_post_val_pred) "
      ]
    },
    {
      "cell_type": "markdown",
      "metadata": {
        "id": "pHTTJxvPAdp9"
      },
      "source": [
        "#### upsampled data"
      ]
    },
    {
      "cell_type": "code",
      "execution_count": null,
      "metadata": {
        "colab": {
          "base_uri": "https://localhost:8080/",
          "height": 629
        },
        "id": "VX8_F4FtAdp-",
        "outputId": "2313ffff-970d-4178-b27c-f53b8c135883"
      },
      "outputs": [
        {
          "output_type": "stream",
          "name": "stdout",
          "text": [
            "+--------------+---------------------+\n",
            "|    Metric    |        Score        |\n",
            "+--------------+---------------------+\n",
            "|   accuracy   |  0.8431355242382339 |\n",
            "|    recall    |  0.975855954167235  |\n",
            "|  presicion   |  0.3114226014278252 |\n",
            "|   f1 score   | 0.47216447216447216 |\n",
            "| f_beta score |  0.683991127428484  |\n",
            "+--------------+---------------------+\n"
          ]
        },
        {
          "output_type": "display_data",
          "data": {
            "text/plain": [
              "<Figure size 576x576 with 2 Axes>"
            ],
            "image/png": "[encoded data removed]"
          },
          "metadata": {
            "needs_background": "light"
          }
        }
      ],
      "source": [
        "#### downdampled data\n",
        "\n",
        "xgb_post_val = xgb.XGBClassifier(objective='binary:logistic',  eval_metric='aucpr', early_stopping_rounds=10, learning_rate=0.12, max_depth=5, reg_lambda=10.0, gamma=0.25, scale_pos_weight=3)\n",
        "xgb_post_val.fit(X_train_up, y_train_up,verbose=False, eval_set=[(X_val, y_val)])\n",
        "xgb_post_val_pred = xgb_post_val.predict(X_test)\n",
        "\n",
        "mh.model_evaluation(y_test, xgb_post_val_pred) "
      ]
    },
    {
      "cell_type": "markdown",
      "metadata": {
        "id": "IcI-pkenAdp-"
      },
      "source": [
        "---\n",
        "### Simple FC neural network"
      ]
    },
    {
      "cell_type": "markdown",
      "metadata": {
        "id": "Ho_n7iy6Adp-"
      },
      "source": [
        "#### original data"
      ]
    },
    {
      "cell_type": "code",
      "execution_count": null,
      "metadata": {
        "id": "AdmiNFF5Adp-"
      },
      "outputs": [],
      "source": [
        "# bulding a simple FC NN architecture for comparison\n",
        "\n",
        "class FC_Net(nn.Module):\n",
        "    def __init__(self, nuerons_num: list):\n",
        "        super().__init__()\n",
        "        self.fc1 = nn.Linear(nuerons_num[0], nuerons_num[1])\n",
        "        self.fc2 = nn.Linear(nuerons_num[1], nuerons_num[2])\n",
        "        self.fc3 = nn.Linear(nuerons_num[2], nuerons_num[3])        \n",
        "    \n",
        "    def forward(self, net_input):\n",
        "        z = self.fc1(net_input)\n",
        "        a = F.relu(z)\n",
        "        z = self.fc2(a)\n",
        "        a = F.relu(z)\n",
        "        z = self.fc3(a)\n",
        "        #a = F.relu(z)\n",
        "        #z = self.fc4(a)\n",
        "\n",
        "        return torch.sigmoid(z)"
      ]
    },
    {
      "cell_type": "code",
      "execution_count": null,
      "metadata": {
        "id": "3VjQ8bh_Adp-"
      },
      "outputs": [],
      "source": [
        "# converting data to torch tensors\n",
        "X_train_nn, y_train_nn, X_test_nn, y_test_nn, X_val_nn, y_val_nn = (torch.from_numpy(X_train.values), torch.from_numpy(y_train.values), \n",
        "                                                 torch.from_numpy(X_test.values), torch.from_numpy(y_test.values), \n",
        "                                                 torch.from_numpy(X_val.values), torch.from_numpy(y_val.values))\n",
        "\n",
        "\n",
        "batch_size = 1024\n",
        "y_train_nn = torch.reshape(y_train_nn, (y_train_nn.size()[0], 1))\n",
        "train_set = torch.cat((X_train_nn, y_train_nn), dim=1)\n",
        "\n",
        "# Shuffle the data before spliting so we wont get batches of all ones and all zeros\n",
        "train_set = train_set[torch.randperm(train_set.size()[0]),:].float()\n",
        "batches = torch.split(train_set, batch_size)"
      ]
    },
    {
      "cell_type": "code",
      "execution_count": null,
      "metadata": {
        "colab": {
          "base_uri": "https://localhost:8080/"
        },
        "id": "10htmuS_Adp-",
        "outputId": "5115d92d-fd1c-4f24-def3-42b1acf5e3a4"
      },
      "outputs": [
        {
          "output_type": "stream",
          "name": "stderr",
          "text": [
            "epoch:   0%|          | 0/20 [00:00<?, ?it/s]\n",
            "batch:   0%|          | 0/797 [00:00<?, ?it/s]\u001b[A\n",
            "batch:   0%|          | 1/797 [00:00<01:35,  8.36it/s]\u001b[A\n",
            "batch:   7%|▋         | 55/797 [00:00<00:02, 297.22it/s]\u001b[A\n",
            "batch:  14%|█▍        | 112/797 [00:00<00:01, 414.15it/s]\u001b[A\n",
            "batch:  20%|██        | 161/797 [00:00<00:01, 433.95it/s]\u001b[A\n",
            "batch:  28%|██▊       | 225/797 [00:00<00:01, 505.82it/s]\u001b[A\n",
            "batch:  35%|███▌      | 281/797 [00:00<00:01, 496.64it/s]\u001b[A\n",
            "batch:  43%|████▎     | 345/797 [00:00<00:00, 538.83it/s]\u001b[A\n",
            "batch:  50%|█████     | 401/797 [00:00<00:00, 532.54it/s]\u001b[A\n",
            "batch:  58%|█████▊    | 463/797 [00:00<00:00, 558.50it/s]\u001b[A\n",
            "batch:  65%|██████▌   | 521/797 [00:01<00:00, 549.08it/s]\u001b[A\n",
            "batch:  72%|███████▏  | 577/797 [00:01<00:00, 546.33it/s]\u001b[A\n",
            "batch:  79%|███████▉  | 633/797 [00:01<00:00, 549.48it/s]\u001b[A\n",
            "batch:  86%|████████▋ | 689/797 [00:01<00:00, 527.35it/s]\u001b[A\n",
            "batch: 100%|██████████| 797/797 [00:01<00:00, 509.64it/s]\n",
            "epoch:   5%|▌         | 1/20 [00:01<00:29,  1.58s/it]\n",
            "batch:   0%|          | 0/797 [00:00<?, ?it/s]\u001b[A\n",
            "batch:   7%|▋         | 54/797 [00:00<00:01, 534.12it/s]\u001b[A\n",
            "batch:  15%|█▍        | 119/797 [00:00<00:01, 600.55it/s]\u001b[A\n",
            "batch:  23%|██▎       | 180/797 [00:00<00:01, 572.21it/s]\u001b[A\n",
            "batch:  30%|██▉       | 239/797 [00:00<00:00, 576.98it/s]\u001b[A\n",
            "batch:  37%|███▋      | 297/797 [00:00<00:00, 552.45it/s]\u001b[A\n",
            "batch:  44%|████▍     | 353/797 [00:00<00:00, 549.90it/s]\u001b[A\n",
            "batch:  51%|█████▏    | 409/797 [00:00<00:00, 541.42it/s]\u001b[A\n",
            "batch:  59%|█████▉    | 470/797 [00:00<00:00, 560.35it/s]\u001b[A\n",
            "batch:  66%|██████▌   | 527/797 [00:00<00:00, 521.95it/s]\u001b[A\n",
            "batch:  74%|███████▎  | 587/797 [00:01<00:00, 543.92it/s]\u001b[A\n",
            "batch:  81%|████████  | 642/797 [00:01<00:00, 536.80it/s]\u001b[A\n",
            "batch:  89%|████████▉ | 710/797 [00:01<00:00, 576.79it/s]\u001b[A\n",
            "batch: 100%|██████████| 797/797 [00:01<00:00, 559.36it/s]\n",
            "epoch:  10%|█         | 2/20 [00:03<00:26,  1.49s/it]\n",
            "batch:   0%|          | 0/797 [00:00<?, ?it/s]\u001b[A\n",
            "batch:   7%|▋         | 53/797 [00:00<00:01, 527.27it/s]\u001b[A\n",
            "batch:  13%|█▎        | 106/797 [00:00<00:01, 525.44it/s]\u001b[A\n",
            "batch:  20%|██        | 161/797 [00:00<00:01, 513.75it/s]\u001b[A\n",
            "batch:  27%|██▋       | 214/797 [00:00<00:01, 518.93it/s]\u001b[A\n",
            "batch:  35%|███▍      | 275/797 [00:00<00:00, 549.29it/s]\u001b[A\n",
            "batch:  42%|████▏     | 331/797 [00:00<00:00, 540.99it/s]\u001b[A\n",
            "batch:  49%|████▉     | 394/797 [00:00<00:00, 568.73it/s]\u001b[A\n",
            "batch:  57%|█████▋    | 451/797 [00:00<00:00, 552.60it/s]\u001b[A\n",
            "batch:  65%|██████▍   | 518/797 [00:00<00:00, 587.33it/s]\u001b[A\n",
            "batch:  72%|███████▏  | 577/797 [00:01<00:00, 576.45it/s]\u001b[A\n",
            "batch:  80%|████████  | 641/797 [00:01<00:00, 566.94it/s]\u001b[A\n",
            "batch:  88%|████████▊ | 698/797 [00:01<00:00, 562.17it/s]\u001b[A\n",
            "batch: 100%|██████████| 797/797 [00:01<00:00, 559.64it/s]\n",
            "epoch:  15%|█▌        | 3/20 [00:04<00:24,  1.47s/it]\n",
            "batch:   0%|          | 0/797 [00:00<?, ?it/s]\u001b[A\n",
            "batch:   7%|▋         | 55/797 [00:00<00:01, 549.62it/s]\u001b[A\n",
            "batch:  15%|█▌        | 121/797 [00:00<00:01, 560.59it/s]\u001b[A\n",
            "batch:  23%|██▎       | 184/797 [00:00<00:01, 588.36it/s]\u001b[A\n",
            "batch:  30%|███       | 243/797 [00:00<00:00, 566.97it/s]\u001b[A\n",
            "batch:  39%|███▉      | 311/797 [00:00<00:00, 604.81it/s]\u001b[A\n",
            "batch:  47%|████▋     | 372/797 [00:00<00:00, 568.47it/s]\u001b[A\n",
            "batch:  54%|█████▍    | 433/797 [00:00<00:00, 580.21it/s]\u001b[A\n",
            "batch:  62%|██████▏   | 492/797 [00:00<00:00, 535.97it/s]\u001b[A\n",
            "batch:  70%|██████▉   | 557/797 [00:00<00:00, 566.51it/s]\u001b[A\n",
            "batch:  77%|███████▋  | 615/797 [00:01<00:00, 548.28it/s]\u001b[A\n",
            "batch:  84%|████████▍ | 672/797 [00:01<00:00, 553.44it/s]\u001b[A\n",
            "batch:  91%|█████████▏| 728/797 [00:01<00:00, 525.09it/s]\u001b[A\n",
            "batch: 100%|██████████| 797/797 [00:01<00:00, 552.88it/s]\n",
            "epoch:  20%|██        | 4/20 [00:05<00:23,  1.46s/it]\n",
            "batch:   0%|          | 0/797 [00:00<?, ?it/s]\u001b[A\n",
            "batch:   6%|▋         | 51/797 [00:00<00:01, 506.05it/s]\u001b[A\n",
            "batch:  14%|█▍        | 113/797 [00:00<00:01, 571.75it/s]\u001b[A\n",
            "batch:  21%|██▏       | 171/797 [00:00<00:01, 538.82it/s]\u001b[A\n",
            "batch:  28%|██▊       | 226/797 [00:00<00:01, 524.77it/s]\u001b[A\n",
            "batch:  35%|███▌      | 281/797 [00:00<00:00, 521.64it/s]\u001b[A\n",
            "batch:  44%|████▎     | 347/797 [00:00<00:00, 565.12it/s]\u001b[A\n",
            "batch:  51%|█████     | 404/797 [00:00<00:00, 543.63it/s]\u001b[A\n",
            "batch:  59%|█████▉    | 469/797 [00:00<00:00, 575.09it/s]\u001b[A\n",
            "batch:  66%|██████▌   | 527/797 [00:00<00:00, 559.61it/s]\u001b[A\n",
            "batch:  74%|███████▍  | 591/797 [00:01<00:00, 582.02it/s]\u001b[A\n",
            "batch:  82%|████████▏ | 650/797 [00:01<00:00, 562.50it/s]\u001b[A\n",
            "batch:  89%|████████▊ | 707/797 [00:01<00:00, 557.57it/s]\u001b[A\n",
            "batch: 100%|██████████| 797/797 [00:01<00:00, 541.51it/s]\n",
            "epoch:  25%|██▌       | 5/20 [00:07<00:22,  1.47s/it]\n",
            "batch:   0%|          | 0/797 [00:00<?, ?it/s]\u001b[A\n",
            "batch:   7%|▋         | 57/797 [00:00<00:01, 566.92it/s]\u001b[A\n",
            "batch:  15%|█▍        | 118/797 [00:00<00:01, 591.01it/s]\u001b[A\n",
            "batch:  22%|██▏       | 178/797 [00:00<00:01, 562.66it/s]\u001b[A\n",
            "batch:  30%|██▉       | 239/797 [00:00<00:00, 580.50it/s]\u001b[A\n",
            "batch:  37%|███▋      | 298/797 [00:00<00:00, 555.03it/s]\u001b[A\n",
            "batch:  45%|████▌     | 361/797 [00:00<00:00, 554.02it/s]\u001b[A\n",
            "batch:  53%|█████▎    | 424/797 [00:00<00:00, 576.58it/s]\u001b[A\n",
            "batch:  60%|██████    | 482/797 [00:00<00:00, 556.60it/s]\u001b[A\n",
            "batch:  68%|██████▊   | 538/797 [00:00<00:00, 545.42it/s]\u001b[A\n",
            "batch:  75%|███████▌  | 600/797 [00:01<00:00, 565.99it/s]\u001b[A\n",
            "batch:  82%|████████▏ | 657/797 [00:01<00:00, 558.38it/s]\u001b[A\n",
            "batch:  90%|█████████ | 721/797 [00:01<00:00, 559.67it/s]\u001b[A\n",
            "batch: 100%|██████████| 797/797 [00:01<00:00, 568.16it/s]\n",
            "epoch:  30%|███       | 6/20 [00:08<00:20,  1.45s/it]\n",
            "batch:   0%|          | 0/797 [00:00<?, ?it/s]\u001b[A\n",
            "batch:   7%|▋         | 56/797 [00:00<00:01, 557.66it/s]\u001b[A\n",
            "batch:  15%|█▌        | 120/797 [00:00<00:01, 603.94it/s]\u001b[A\n",
            "batch:  23%|██▎       | 181/797 [00:00<00:01, 569.51it/s]\u001b[A\n",
            "batch:  30%|███       | 241/797 [00:00<00:00, 556.35it/s]\u001b[A\n",
            "batch:  37%|███▋      | 297/797 [00:00<00:00, 556.90it/s]\u001b[A\n",
            "batch:  45%|████▌     | 361/797 [00:00<00:00, 559.16it/s]\u001b[A\n",
            "batch:  53%|█████▎    | 425/797 [00:00<00:00, 582.58it/s]\u001b[A\n",
            "batch:  61%|██████    | 484/797 [00:00<00:00, 551.38it/s]\u001b[A\n",
            "batch:  69%|██████▉   | 549/797 [00:00<00:00, 579.43it/s]\u001b[A\n",
            "batch:  76%|███████▋  | 608/797 [00:01<00:00, 559.68it/s]\u001b[A\n",
            "batch:  84%|████████▎ | 667/797 [00:01<00:00, 568.11it/s]\u001b[A\n",
            "batch:  91%|█████████ | 725/797 [00:01<00:00, 539.14it/s]\u001b[A\n",
            "batch: 100%|██████████| 797/797 [00:01<00:00, 560.27it/s]\n",
            "epoch:  35%|███▌      | 7/20 [00:10<00:18,  1.45s/it]\n",
            "batch:   0%|          | 0/797 [00:00<?, ?it/s]\u001b[A\n",
            "batch:   6%|▋         | 51/797 [00:00<00:01, 506.16it/s]\u001b[A\n",
            "batch:  14%|█▎        | 109/797 [00:00<00:01, 548.42it/s]\u001b[A\n",
            "batch:  21%|██        | 164/797 [00:00<00:01, 515.86it/s]\u001b[A\n",
            "batch:  28%|██▊       | 224/797 [00:00<00:01, 546.52it/s]\u001b[A\n",
            "batch:  35%|███▌      | 281/797 [00:00<00:00, 532.27it/s]\u001b[A\n",
            "batch:  43%|████▎     | 340/797 [00:00<00:00, 550.82it/s]\u001b[A\n",
            "batch:  50%|█████     | 401/797 [00:00<00:00, 544.86it/s]\u001b[A\n",
            "batch:  57%|█████▋    | 456/797 [00:00<00:00, 546.37it/s]\u001b[A\n",
            "batch:  65%|██████▍   | 518/797 [00:00<00:00, 568.02it/s]\u001b[A\n",
            "batch:  72%|███████▏  | 575/797 [00:01<00:00, 556.33it/s]\u001b[A\n",
            "batch:  79%|███████▉  | 631/797 [00:01<00:00, 542.07it/s]\u001b[A\n",
            "batch:  86%|████████▌ | 686/797 [00:01<00:00, 528.89it/s]\u001b[A\n",
            "batch: 100%|██████████| 797/797 [00:01<00:00, 548.61it/s]\n",
            "epoch:  40%|████      | 8/20 [00:11<00:17,  1.45s/it]\n",
            "batch:   0%|          | 0/797 [00:00<?, ?it/s]\u001b[A\n",
            "batch:   7%|▋         | 54/797 [00:00<00:01, 537.39it/s]\u001b[A\n",
            "batch:  14%|█▍        | 115/797 [00:00<00:01, 577.21it/s]\u001b[A\n",
            "batch:  22%|██▏       | 173/797 [00:00<00:01, 543.84it/s]\u001b[A\n",
            "batch:  29%|██▊       | 228/797 [00:00<00:01, 526.66it/s]\u001b[A\n",
            "batch:  35%|███▌      | 281/797 [00:00<00:00, 521.38it/s]\u001b[A\n",
            "batch:  43%|████▎     | 344/797 [00:00<00:00, 556.18it/s]\u001b[A\n",
            "batch:  50%|█████     | 400/797 [00:00<00:00, 544.92it/s]\u001b[A\n",
            "batch:  57%|█████▋    | 455/797 [00:00<00:00, 535.18it/s]\u001b[A\n",
            "batch:  64%|██████▍   | 510/797 [00:00<00:00, 538.42it/s]\u001b[A\n",
            "batch:  71%|███████   | 564/797 [00:01<00:00, 514.39it/s]\u001b[A\n",
            "batch:  78%|███████▊  | 621/797 [00:01<00:00, 529.68it/s]\u001b[A\n",
            "batch:  85%|████████▌ | 681/797 [00:01<00:00, 529.30it/s]\u001b[A\n",
            "batch: 100%|██████████| 797/797 [00:01<00:00, 540.25it/s]\n",
            "epoch:  45%|████▌     | 9/20 [00:13<00:16,  1.46s/it]\n",
            "batch:   0%|          | 0/797 [00:00<?, ?it/s]\u001b[A\n",
            "batch:   6%|▋         | 51/797 [00:00<00:01, 507.71it/s]\u001b[A\n",
            "batch:  14%|█▍        | 111/797 [00:00<00:01, 560.34it/s]\u001b[A\n",
            "batch:  21%|██        | 168/797 [00:00<00:01, 498.46it/s]\u001b[A\n",
            "batch:  28%|██▊       | 226/797 [00:00<00:01, 527.09it/s]\u001b[A\n",
            "batch:  35%|███▌      | 281/797 [00:00<00:01, 509.72it/s]\u001b[A\n",
            "batch:  42%|████▏     | 338/797 [00:00<00:00, 528.68it/s]\u001b[A\n",
            "batch:  50%|█████     | 401/797 [00:00<00:00, 536.12it/s]\u001b[A\n",
            "batch:  58%|█████▊    | 464/797 [00:00<00:00, 562.10it/s]\u001b[A\n",
            "batch:  65%|██████▌   | 521/797 [00:00<00:00, 533.64it/s]\u001b[A\n",
            "batch:  74%|███████▎  | 587/797 [00:01<00:00, 568.77it/s]\u001b[A\n",
            "batch:  81%|████████  | 645/797 [00:01<00:00, 550.48it/s]\u001b[A\n",
            "batch:  88%|████████▊ | 701/797 [00:01<00:00, 549.95it/s]\u001b[A\n",
            "batch: 100%|██████████| 797/797 [00:01<00:00, 540.97it/s]\n",
            "epoch:  50%|█████     | 10/20 [00:14<00:14,  1.47s/it]\n",
            "batch:   0%|          | 0/797 [00:00<?, ?it/s]\u001b[A\n",
            "batch:   7%|▋         | 52/797 [00:00<00:01, 516.33it/s]\u001b[A\n",
            "batch:  15%|█▍        | 118/797 [00:00<00:01, 599.20it/s]\u001b[A\n",
            "batch:  22%|██▏       | 178/797 [00:00<00:01, 570.62it/s]\u001b[A\n",
            "batch:  30%|██▉       | 239/797 [00:00<00:00, 585.64it/s]\u001b[A\n",
            "batch:  37%|███▋      | 298/797 [00:00<00:00, 554.38it/s]\u001b[A\n",
            "batch:  45%|████▌     | 361/797 [00:00<00:00, 550.52it/s]\u001b[A\n",
            "batch:  54%|█████▎    | 428/797 [00:00<00:00, 586.17it/s]\u001b[A\n",
            "batch:  61%|██████    | 488/797 [00:00<00:00, 550.96it/s]\u001b[A\n",
            "batch:  69%|██████▉   | 552/797 [00:00<00:00, 575.88it/s]\u001b[A\n",
            "batch:  77%|███████▋  | 611/797 [00:01<00:00, 561.18it/s]\u001b[A\n",
            "batch:  85%|████████▍ | 675/797 [00:01<00:00, 582.51it/s]\u001b[A\n",
            "batch:  92%|█████████▏| 734/797 [00:01<00:00, 569.48it/s]\u001b[A\n",
            "batch: 100%|██████████| 797/797 [00:01<00:00, 565.39it/s]\n",
            "epoch:  55%|█████▌    | 11/20 [00:16<00:13,  1.46s/it]\n",
            "batch:   0%|          | 0/797 [00:00<?, ?it/s]\u001b[A\n",
            "batch:   7%|▋         | 53/797 [00:00<00:01, 527.68it/s]\u001b[A\n",
            "batch:  14%|█▍        | 114/797 [00:00<00:01, 575.11it/s]\u001b[A\n",
            "batch:  22%|██▏       | 172/797 [00:00<00:01, 545.29it/s]\u001b[A\n",
            "batch:  28%|██▊       | 227/797 [00:00<00:01, 535.71it/s]\u001b[A\n",
            "batch:  35%|███▌      | 281/797 [00:00<00:01, 515.86it/s]\u001b[A\n",
            "batch:  43%|████▎     | 340/797 [00:00<00:00, 539.33it/s]\u001b[A\n",
            "batch:  50%|█████     | 401/797 [00:00<00:00, 545.18it/s]\u001b[A\n",
            "batch:  59%|█████▉    | 469/797 [00:00<00:00, 584.45it/s]\u001b[A\n",
            "batch:  66%|██████▌   | 528/797 [00:00<00:00, 557.69it/s]\u001b[A\n",
            "batch:  74%|███████▍  | 588/797 [00:01<00:00, 569.60it/s]\u001b[A\n",
            "batch:  81%|████████  | 646/797 [00:01<00:00, 548.06it/s]\u001b[A\n",
            "batch:  89%|████████▉ | 710/797 [00:01<00:00, 573.14it/s]\u001b[A\n",
            "batch: 100%|██████████| 797/797 [00:01<00:00, 552.92it/s]\n",
            "epoch:  60%|██████    | 12/20 [00:17<00:11,  1.45s/it]\n",
            "batch:   0%|          | 0/797 [00:00<?, ?it/s]\u001b[A\n",
            "batch:   7%|▋         | 55/797 [00:00<00:01, 544.93it/s]\u001b[A\n",
            "batch:  14%|█▍        | 113/797 [00:00<00:01, 564.29it/s]\u001b[A\n",
            "batch:  21%|██▏       | 170/797 [00:00<00:01, 538.76it/s]\u001b[A\n",
            "batch:  30%|██▉       | 236/797 [00:00<00:00, 584.82it/s]\u001b[A\n",
            "batch:  37%|███▋      | 295/797 [00:00<00:00, 514.32it/s]\u001b[A\n",
            "batch:  45%|████▍     | 358/797 [00:00<00:00, 549.50it/s]\u001b[A\n",
            "batch:  52%|█████▏    | 415/797 [00:00<00:00, 540.53it/s]\u001b[A\n",
            "batch:  60%|██████    | 480/797 [00:00<00:00, 571.56it/s]\u001b[A\n",
            "batch:  68%|██████▊   | 538/797 [00:00<00:00, 554.66it/s]\u001b[A\n",
            "batch:  75%|███████▍  | 595/797 [00:01<00:00, 556.15it/s]\u001b[A\n",
            "batch:  82%|████████▏ | 652/797 [00:01<00:00, 542.97it/s]\u001b[A\n",
            "batch:  89%|████████▉ | 713/797 [00:01<00:00, 560.56it/s]\u001b[A\n",
            "batch: 100%|██████████| 797/797 [00:01<00:00, 553.41it/s]\n",
            "epoch:  65%|██████▌   | 13/20 [00:19<00:10,  1.45s/it]\n",
            "batch:   0%|          | 0/797 [00:00<?, ?it/s]\u001b[A\n",
            "batch:   7%|▋         | 56/797 [00:00<00:01, 555.76it/s]\u001b[A\n",
            "batch:  15%|█▍        | 118/797 [00:00<00:01, 591.17it/s]\u001b[A\n",
            "batch:  22%|██▏       | 178/797 [00:00<00:01, 553.43it/s]\u001b[A\n",
            "batch:  30%|███       | 241/797 [00:00<00:01, 552.67it/s]\u001b[A\n",
            "batch:  38%|███▊      | 301/797 [00:00<00:00, 566.85it/s]\u001b[A\n",
            "batch:  45%|████▍     | 358/797 [00:00<00:00, 565.78it/s]\u001b[A\n",
            "batch:  52%|█████▏    | 415/797 [00:00<00:00, 555.19it/s]\u001b[A\n",
            "batch:  60%|█████▉    | 476/797 [00:00<00:00, 570.07it/s]\u001b[A\n",
            "batch:  67%|██████▋   | 534/797 [00:00<00:00, 540.83it/s]\u001b[A\n",
            "batch:  74%|███████▍  | 592/797 [00:01<00:00, 551.50it/s]\u001b[A\n",
            "batch:  81%|████████▏ | 648/797 [00:01<00:00, 530.91it/s]\u001b[A\n",
            "batch:  88%|████████▊ | 705/797 [00:01<00:00, 540.41it/s]\u001b[A\n",
            "batch: 100%|██████████| 797/797 [00:01<00:00, 547.72it/s]\n",
            "epoch:  70%|███████   | 14/20 [00:20<00:08,  1.46s/it]\n",
            "batch:   0%|          | 0/797 [00:00<?, ?it/s]\u001b[A\n",
            "batch:   6%|▋         | 51/797 [00:00<00:01, 505.40it/s]\u001b[A\n",
            "batch:  13%|█▎        | 102/797 [00:00<00:01, 492.73it/s]\u001b[A\n",
            "batch:  20%|██        | 160/797 [00:00<00:01, 528.51it/s]\u001b[A\n",
            "batch:  27%|██▋       | 213/797 [00:00<00:01, 506.46it/s]\u001b[A\n",
            "batch:  34%|███▍      | 273/797 [00:00<00:00, 536.71it/s]\u001b[A\n",
            "batch:  41%|████      | 327/797 [00:00<00:00, 508.35it/s]\u001b[A\n",
            "batch:  49%|████▊     | 387/797 [00:00<00:00, 535.75it/s]\u001b[A\n",
            "batch:  55%|█████▌    | 441/797 [00:00<00:00, 518.88it/s]\u001b[A\n",
            "batch:  63%|██████▎   | 504/797 [00:00<00:00, 551.06it/s]\u001b[A\n",
            "batch:  70%|███████   | 561/797 [00:01<00:00, 536.74it/s]\u001b[A\n",
            "batch:  77%|███████▋  | 616/797 [00:01<00:00, 539.75it/s]\u001b[A\n",
            "batch:  85%|████████▍ | 677/797 [00:01<00:00, 558.24it/s]\u001b[A\n",
            "batch:  92%|█████████▏| 734/797 [00:01<00:00, 554.87it/s]\u001b[A\n",
            "batch: 100%|██████████| 797/797 [00:01<00:00, 533.21it/s]\n",
            "epoch:  75%|███████▌  | 15/20 [00:21<00:07,  1.48s/it]\n",
            "batch:   0%|          | 0/797 [00:00<?, ?it/s]\u001b[A\n",
            "batch:   7%|▋         | 53/797 [00:00<00:01, 528.95it/s]\u001b[A\n",
            "batch:  13%|█▎        | 107/797 [00:00<00:01, 530.60it/s]\u001b[A\n",
            "batch:  20%|██        | 161/797 [00:00<00:01, 509.33it/s]\u001b[A\n",
            "batch:  28%|██▊       | 224/797 [00:00<00:01, 555.38it/s]\u001b[A\n",
            "batch:  35%|███▌      | 281/797 [00:00<00:00, 543.83it/s]\u001b[A\n",
            "batch:  43%|████▎     | 339/797 [00:00<00:00, 555.35it/s]\u001b[A\n",
            "batch:  50%|████▉     | 395/797 [00:00<00:00, 553.18it/s]\u001b[A\n",
            "batch:  57%|█████▋    | 451/797 [00:00<00:00, 543.89it/s]\u001b[A\n",
            "batch:  64%|██████▍   | 514/797 [00:00<00:00, 569.74it/s]\u001b[A\n",
            "batch:  72%|███████▏  | 572/797 [00:01<00:00, 553.73it/s]\u001b[A\n",
            "batch:  80%|███████▉  | 634/797 [00:01<00:00, 572.41it/s]\u001b[A\n",
            "batch:  87%|████████▋ | 692/797 [00:01<00:00, 549.86it/s]\u001b[A\n",
            "batch: 100%|██████████| 797/797 [00:01<00:00, 555.28it/s]\n",
            "epoch:  80%|████████  | 16/20 [00:23<00:05,  1.47s/it]\n",
            "batch:   0%|          | 0/797 [00:00<?, ?it/s]\u001b[A\n",
            "batch:   7%|▋         | 52/797 [00:00<00:01, 519.42it/s]\u001b[A\n",
            "batch:  13%|█▎        | 107/797 [00:00<00:01, 534.95it/s]\u001b[A\n",
            "batch:  20%|██        | 161/797 [00:00<00:01, 513.80it/s]\u001b[A\n",
            "batch:  28%|██▊       | 225/797 [00:00<00:01, 561.61it/s]\u001b[A\n",
            "batch:  35%|███▌      | 282/797 [00:00<00:00, 544.95it/s]\u001b[A\n",
            "batch:  43%|████▎     | 346/797 [00:00<00:00, 575.60it/s]\u001b[A\n",
            "batch:  51%|█████     | 404/797 [00:00<00:00, 538.29it/s]\u001b[A\n",
            "batch:  59%|█████▊    | 467/797 [00:00<00:00, 564.21it/s]\u001b[A\n",
            "batch:  66%|██████▌   | 524/797 [00:00<00:00, 553.65it/s]\u001b[A\n",
            "batch:  73%|███████▎  | 583/797 [00:01<00:00, 563.45it/s]\u001b[A\n",
            "batch:  80%|████████  | 641/797 [00:01<00:00, 554.10it/s]\u001b[A\n",
            "batch:  88%|████████▊ | 698/797 [00:01<00:00, 555.69it/s]\u001b[A\n",
            "batch: 100%|██████████| 797/797 [00:01<00:00, 556.28it/s]\n",
            "epoch:  85%|████████▌ | 17/20 [00:24<00:04,  1.46s/it]\n",
            "batch:   0%|          | 0/797 [00:00<?, ?it/s]\u001b[A\n",
            "batch:   6%|▋         | 50/797 [00:00<00:01, 496.79it/s]\u001b[A\n",
            "batch:  14%|█▎        | 109/797 [00:00<00:01, 551.19it/s]\u001b[A\n",
            "batch:  21%|██        | 165/797 [00:00<00:01, 509.84it/s]\u001b[A\n",
            "batch:  28%|██▊       | 223/797 [00:00<00:01, 536.08it/s]\u001b[A\n",
            "batch:  35%|███▌      | 281/797 [00:00<00:00, 529.41it/s]\u001b[A\n",
            "batch:  43%|████▎     | 344/797 [00:00<00:00, 560.09it/s]\u001b[A\n",
            "batch:  50%|█████     | 401/797 [00:00<00:00, 544.98it/s]\u001b[A\n",
            "batch:  58%|█████▊    | 461/797 [00:00<00:00, 561.42it/s]\u001b[A\n",
            "batch:  65%|██████▌   | 521/797 [00:00<00:00, 545.83it/s]\u001b[A\n",
            "batch:  74%|███████▍  | 589/797 [00:01<00:00, 583.35it/s]\u001b[A\n",
            "batch:  81%|████████▏ | 648/797 [00:01<00:00, 561.88it/s]\u001b[A\n",
            "batch:  89%|████████▉ | 708/797 [00:01<00:00, 572.63it/s]\u001b[A\n",
            "batch: 100%|██████████| 797/797 [00:01<00:00, 554.72it/s]\n",
            "epoch:  90%|█████████ | 18/20 [00:26<00:02,  1.46s/it]\n",
            "batch:   0%|          | 0/797 [00:00<?, ?it/s]\u001b[A\n",
            "batch:   6%|▌         | 48/797 [00:00<00:01, 477.83it/s]\u001b[A\n",
            "batch:  13%|█▎        | 107/797 [00:00<00:01, 541.49it/s]\u001b[A\n",
            "batch:  20%|██        | 162/797 [00:00<00:01, 511.47it/s]\u001b[A\n",
            "batch:  28%|██▊       | 224/797 [00:00<00:01, 552.32it/s]\u001b[A\n",
            "batch:  35%|███▌      | 281/797 [00:00<00:00, 532.64it/s]\u001b[A\n",
            "batch:  43%|████▎     | 340/797 [00:00<00:00, 549.66it/s]\u001b[A\n",
            "batch:  50%|█████     | 401/797 [00:00<00:00, 542.73it/s]\u001b[A\n",
            "batch:  58%|█████▊    | 464/797 [00:00<00:00, 568.05it/s]\u001b[A\n",
            "batch:  65%|██████▌   | 522/797 [00:00<00:00, 551.44it/s]\u001b[A\n",
            "batch:  73%|███████▎  | 580/797 [00:01<00:00, 558.93it/s]\u001b[A\n",
            "batch:  80%|████████  | 639/797 [00:01<00:00, 568.06it/s]\u001b[A\n",
            "batch:  87%|████████▋ | 696/797 [00:01<00:00, 553.62it/s]\u001b[A\n",
            "batch: 100%|██████████| 797/797 [00:01<00:00, 553.72it/s]\n",
            "epoch:  95%|█████████▌| 19/20 [00:27<00:01,  1.45s/it]\n",
            "batch:   0%|          | 0/797 [00:00<?, ?it/s]\u001b[A\n",
            "batch:   6%|▌         | 44/797 [00:00<00:01, 438.60it/s]\u001b[A\n",
            "batch:  13%|█▎        | 100/797 [00:00<00:01, 508.78it/s]\u001b[A\n",
            "batch:  20%|█▉        | 158/797 [00:00<00:01, 540.13it/s]\u001b[A\n",
            "batch:  27%|██▋       | 213/797 [00:00<00:01, 519.74it/s]\u001b[A\n",
            "batch:  34%|███▍      | 274/797 [00:00<00:00, 551.00it/s]\u001b[A\n",
            "batch:  41%|████▏     | 330/797 [00:00<00:00, 536.79it/s]\u001b[A\n",
            "batch:  49%|████▉     | 389/797 [00:00<00:00, 552.89it/s]\u001b[A\n",
            "batch:  56%|█████▌    | 445/797 [00:00<00:00, 495.12it/s]\u001b[A\n",
            "batch:  64%|██████▎   | 507/797 [00:00<00:00, 529.30it/s]\u001b[A\n",
            "batch:  71%|███████   | 562/797 [00:01<00:00, 516.48it/s]\u001b[A\n",
            "batch:  79%|███████▉  | 628/797 [00:01<00:00, 556.64it/s]\u001b[A\n",
            "batch:  86%|████████▌ | 685/797 [00:01<00:00, 538.96it/s]\u001b[A\n",
            "batch: 100%|██████████| 797/797 [00:01<00:00, 538.51it/s]\n",
            "epoch: 100%|██████████| 20/20 [00:29<00:00,  1.46s/it]"
          ]
        },
        {
          "output_type": "stream",
          "name": "stdout",
          "text": [
            "Finished Training\n"
          ]
        },
        {
          "output_type": "stream",
          "name": "stderr",
          "text": [
            "\n"
          ]
        }
      ],
      "source": [
        "net = FC_Net([20, 30, 30, 1])\n",
        "loss_func = nn.BCELoss()\n",
        "#optimizer = optim.SGD(net.parameters(), lr = 0.01, momentum=0.9)\n",
        "optimizer = optim.Adam(net.parameters(), lr = 0.01, weight_decay = 0.)\n",
        "epoches = 20\n",
        "cost_train_list = []\n",
        "cost_val_list = []\n",
        "iter_list = []\n",
        "j = 0\n",
        "i = 0\n",
        " \n",
        "for epoch in tqdm(range(epoches), desc='epoch'):\n",
        "    j = i + j \n",
        "    for i, batch in enumerate(tqdm(batches, desc='batch')):\n",
        "        # get inputs and targets\n",
        "        inputs, targets = batch[:,:-1], batch[:, -1]\n",
        "        targets = torch.reshape(targets, (inputs.size()[0], 1))\n",
        "        y_val_nn = torch.reshape(y_val_nn, (X_val_nn.size()[0], 1))\n",
        "        # zero the parameters gradients \n",
        "        optimizer.zero_grad()\n",
        "\n",
        "        # forward + backward + optimize\n",
        "        outputs = net.forward(inputs)\n",
        "        cost = loss_func(outputs, targets)\n",
        "        cost.backward()\n",
        "        optimizer.step()\n",
        "\n",
        "        # get statistics\n",
        "        if i % 40 == 0: # print every 10 mini-batches\n",
        "            cost_val = loss_func(net.forward(X_val_nn.float()), y_val_nn.float())\n",
        "            cost_val_list.append(cost_val.detach().numpy())\n",
        "            cost_train_list.append(cost.detach().numpy())\n",
        "\n",
        "            iter_list.append(j+i+1)\n",
        "        \n",
        "\n",
        "print('Finished Training')"
      ]
    },
    {
      "cell_type": "code",
      "execution_count": null,
      "metadata": {
        "colab": {
          "base_uri": "https://localhost:8080/",
          "height": 629
        },
        "id": "r_a97aoPAdp_",
        "outputId": "ba05e382-c194-443d-f8a4-08e95e003230"
      },
      "outputs": [
        {
          "output_type": "stream",
          "name": "stdout",
          "text": [
            "+--------------+--------------------+\n",
            "|    Metric    |       Score        |\n",
            "+--------------+--------------------+\n",
            "|   accuracy   | 0.9489540733766807 |\n",
            "|    recall    | 0.5120720229163824 |\n",
            "|  presicion   | 0.6975102192493496 |\n",
            "|   f1 score   | 0.5905765751592857 |\n",
            "| f_beta score | 0.5408286751570333 |\n",
            "+--------------+--------------------+\n"
          ]
        },
        {
          "output_type": "display_data",
          "data": {
            "text/plain": [
              "<Figure size 576x576 with 2 Axes>"
            ],
            "image/png": "[encoded data removed]"
          },
          "metadata": {
            "needs_background": "light"
          }
        }
      ],
      "source": [
        "y_pred = 1*(net.forward(X_test_nn.float())>0.5)\n",
        "mh.model_evaluation(y_test_nn.detach().numpy(), y_pred.detach().numpy())"
      ]
    },
    {
      "cell_type": "markdown",
      "metadata": {
        "id": "8WtZtn2PAdp_"
      },
      "source": [
        "#### downsampled data"
      ]
    },
    {
      "cell_type": "code",
      "execution_count": null,
      "metadata": {
        "id": "_bLyrDaNAdp_"
      },
      "outputs": [],
      "source": [
        "# converting data to torch tensors\n",
        "X_train_nn, y_train_nn, X_test_nn, y_test_nn, X_val_nn, y_val_nn = (torch.from_numpy(X_train_down.values), torch.from_numpy(y_train_down.values), \n",
        "                                                 torch.from_numpy(X_test.values), torch.from_numpy(y_test.values), \n",
        "                                                 torch.from_numpy(X_val.values), torch.from_numpy(y_val.values))\n",
        "\n",
        "\n",
        "batch_size = 1024\n",
        "y_train_nn = torch.reshape(y_train_nn, (y_train_nn.size()[0], 1))\n",
        "train_set = torch.cat((X_train_nn, y_train_nn), dim=1)\n",
        "\n",
        "# Shuffle the data before spliting so we wont get batches of all ones and all zeros\n",
        "train_set = train_set[torch.randperm(train_set.size()[0]),:].float()\n",
        "batches = torch.split(train_set, batch_size)"
      ]
    },
    {
      "cell_type": "code",
      "execution_count": null,
      "metadata": {
        "colab": {
          "base_uri": "https://localhost:8080/"
        },
        "id": "3T9h8TvsAdp_",
        "outputId": "cfa3d22c-edee-4975-be4a-a39b68cec3b9"
      },
      "outputs": [
        {
          "output_type": "stream",
          "name": "stderr",
          "text": [
            "epoch:   0%|          | 0/20 [00:00<?, ?it/s]\n",
            "batch:   0%|          | 0/115 [00:00<?, ?it/s]\u001b[A\n",
            "batch:  45%|████▌     | 52/115 [00:00<00:00, 519.23it/s]\u001b[A\n",
            "batch: 100%|██████████| 115/115 [00:00<00:00, 532.90it/s]\n",
            "epoch:   5%|▌         | 1/20 [00:00<00:04,  4.45it/s]\n",
            "batch:   0%|          | 0/115 [00:00<?, ?it/s]\u001b[A\n",
            "batch: 100%|██████████| 115/115 [00:00<00:00, 597.57it/s]\n",
            "epoch:  10%|█         | 2/20 [00:00<00:03,  4.68it/s]\n",
            "batch:   0%|          | 0/115 [00:00<?, ?it/s]\u001b[A\n",
            "batch: 100%|██████████| 115/115 [00:00<00:00, 591.71it/s]\n",
            "epoch:  15%|█▌        | 3/20 [00:00<00:03,  4.73it/s]\n",
            "batch:   0%|          | 0/115 [00:00<?, ?it/s]\u001b[A\n",
            "batch:  36%|███▌      | 41/115 [00:00<00:00, 404.83it/s]\u001b[A\n",
            "batch: 100%|██████████| 115/115 [00:00<00:00, 516.87it/s]\n",
            "epoch:  20%|██        | 4/20 [00:00<00:03,  4.56it/s]\n",
            "batch:   0%|          | 0/115 [00:00<?, ?it/s]\u001b[A\n",
            "batch:  44%|████▍     | 51/115 [00:00<00:00, 506.27it/s]\u001b[A\n",
            "batch: 100%|██████████| 115/115 [00:00<00:00, 535.37it/s]\n",
            "epoch:  25%|██▌       | 5/20 [00:01<00:03,  4.50it/s]\n",
            "batch:   0%|          | 0/115 [00:00<?, ?it/s]\u001b[A\n",
            "batch:  41%|████      | 47/115 [00:00<00:00, 465.16it/s]\u001b[A\n",
            "batch: 100%|██████████| 115/115 [00:00<00:00, 491.81it/s]\n",
            "epoch:  30%|███       | 6/20 [00:01<00:03,  4.32it/s]\n",
            "batch:   0%|          | 0/115 [00:00<?, ?it/s]\u001b[A\n",
            "batch:  48%|████▊     | 55/115 [00:00<00:00, 549.89it/s]\u001b[A\n",
            "batch: 100%|██████████| 115/115 [00:00<00:00, 543.49it/s]\n",
            "epoch:  35%|███▌      | 7/20 [00:01<00:02,  4.36it/s]\n",
            "batch:   0%|          | 0/115 [00:00<?, ?it/s]\u001b[A\n",
            "batch:  42%|████▏     | 48/115 [00:00<00:00, 479.46it/s]\u001b[A\n",
            "batch: 100%|██████████| 115/115 [00:00<00:00, 544.37it/s]\n",
            "epoch:  40%|████      | 8/20 [00:01<00:02,  4.40it/s]\n",
            "batch:   0%|          | 0/115 [00:00<?, ?it/s]\u001b[A\n",
            "batch:  45%|████▌     | 52/115 [00:00<00:00, 518.65it/s]\u001b[A\n",
            "batch: 100%|██████████| 115/115 [00:00<00:00, 520.33it/s]\n",
            "epoch:  45%|████▌     | 9/20 [00:02<00:02,  4.34it/s]\n",
            "batch:   0%|          | 0/115 [00:00<?, ?it/s]\u001b[A\n",
            "batch: 100%|██████████| 115/115 [00:00<00:00, 613.08it/s]\n",
            "epoch:  50%|█████     | 10/20 [00:02<00:02,  4.52it/s]\n",
            "batch:   0%|          | 0/115 [00:00<?, ?it/s]\u001b[A\n",
            "batch: 100%|██████████| 115/115 [00:00<00:00, 573.01it/s]\n",
            "epoch:  55%|█████▌    | 11/20 [00:02<00:01,  4.59it/s]\n",
            "batch:   0%|          | 0/115 [00:00<?, ?it/s]\u001b[A\n",
            "batch:  43%|████▎     | 50/115 [00:00<00:00, 496.01it/s]\u001b[A\n",
            "batch: 100%|██████████| 115/115 [00:00<00:00, 521.84it/s]\n",
            "epoch:  60%|██████    | 12/20 [00:02<00:01,  4.47it/s]\n",
            "batch:   0%|          | 0/115 [00:00<?, ?it/s]\u001b[A\n",
            "batch: 100%|██████████| 115/115 [00:00<00:00, 580.06it/s]\n",
            "epoch:  65%|██████▌   | 13/20 [00:02<00:01,  4.57it/s]\n",
            "batch:   0%|          | 0/115 [00:00<?, ?it/s]\u001b[A\n",
            "batch: 100%|██████████| 115/115 [00:00<00:00, 582.96it/s]\n",
            "epoch:  70%|███████   | 14/20 [00:03<00:01,  4.62it/s]\n",
            "batch:   0%|          | 0/115 [00:00<?, ?it/s]\u001b[A\n",
            "batch:  43%|████▎     | 49/115 [00:00<00:00, 489.54it/s]\u001b[A\n",
            "batch: 100%|██████████| 115/115 [00:00<00:00, 521.15it/s]\n",
            "epoch:  75%|███████▌  | 15/20 [00:03<00:01,  4.52it/s]\n",
            "batch:   0%|          | 0/115 [00:00<?, ?it/s]\u001b[A\n",
            "batch:  47%|████▋     | 54/115 [00:00<00:00, 534.14it/s]\u001b[A\n",
            "batch: 100%|██████████| 115/115 [00:00<00:00, 551.70it/s]\n",
            "epoch:  80%|████████  | 16/20 [00:03<00:00,  4.52it/s]\n",
            "batch:   0%|          | 0/115 [00:00<?, ?it/s]\u001b[A\n",
            "batch:  49%|████▊     | 56/115 [00:00<00:00, 558.44it/s]\u001b[A\n",
            "batch: 100%|██████████| 115/115 [00:00<00:00, 545.29it/s]\n",
            "epoch:  85%|████████▌ | 17/20 [00:03<00:00,  4.48it/s]\n",
            "batch:   0%|          | 0/115 [00:00<?, ?it/s]\u001b[A\n",
            "batch: 100%|██████████| 115/115 [00:00<00:00, 595.72it/s]\n",
            "epoch:  90%|█████████ | 18/20 [00:03<00:00,  4.58it/s]\n",
            "batch:   0%|          | 0/115 [00:00<?, ?it/s]\u001b[A\n",
            "batch:  38%|███▊      | 44/115 [00:00<00:00, 438.86it/s]\u001b[A\n",
            "batch: 100%|██████████| 115/115 [00:00<00:00, 513.98it/s]\n",
            "epoch:  95%|█████████▌| 19/20 [00:04<00:00,  4.48it/s]\n",
            "batch:   0%|          | 0/115 [00:00<?, ?it/s]\u001b[A\n",
            "batch:  37%|███▋      | 42/115 [00:00<00:00, 416.95it/s]\u001b[A\n",
            "batch: 100%|██████████| 115/115 [00:00<00:00, 527.58it/s]\n",
            "epoch: 100%|██████████| 20/20 [00:04<00:00,  4.49it/s]"
          ]
        },
        {
          "output_type": "stream",
          "name": "stdout",
          "text": [
            "Finished Training\n"
          ]
        },
        {
          "output_type": "stream",
          "name": "stderr",
          "text": [
            "\n"
          ]
        }
      ],
      "source": [
        "net = FC_Net([20, 30, 30, 1])\n",
        "loss_func = nn.BCELoss()\n",
        "#optimizer = optim.SGD(net.parameters(), lr = 0.01, momentum=0.9)\n",
        "optimizer = optim.Adam(net.parameters(), lr = 0.01, weight_decay = 0.)\n",
        "epoches = 20\n",
        "cost_train_list = []\n",
        "cost_val_list = []\n",
        "iter_list = []\n",
        "j = 0\n",
        "i = 0\n",
        " \n",
        "for epoch in tqdm(range(epoches), desc='epoch'):\n",
        "    j = i + j \n",
        "    for i, batch in enumerate(tqdm(batches, desc='batch')):\n",
        "        # get inputs and targets\n",
        "        inputs, targets = batch[:,:-1], batch[:, -1]\n",
        "        targets = torch.reshape(targets, (inputs.size()[0], 1))\n",
        "        y_val_nn = torch.reshape(y_val_nn, (X_val_nn.size()[0], 1))\n",
        "        # zero the parameters gradients \n",
        "        optimizer.zero_grad()\n",
        "\n",
        "        # forward + backward + optimize\n",
        "        outputs = net.forward(inputs)\n",
        "        cost = loss_func(outputs, targets)\n",
        "        cost.backward()\n",
        "        optimizer.step()\n",
        "\n",
        "        # get statistics\n",
        "        if i % 40 == 0: # print every 10 mini-batches\n",
        "            cost_val = loss_func(net.forward(X_val_nn.float()), y_val_nn.float())\n",
        "            cost_val_list.append(cost_val.detach().numpy())\n",
        "            cost_train_list.append(cost.detach().numpy())\n",
        "\n",
        "            iter_list.append(j+i+1)\n",
        "        \n",
        "\n",
        "print('Finished Training')"
      ]
    },
    {
      "cell_type": "code",
      "execution_count": null,
      "metadata": {
        "colab": {
          "base_uri": "https://localhost:8080/",
          "height": 629
        },
        "id": "0aOoh5TkAdp_",
        "outputId": "0d1858d3-98b2-4847-c367-5f8f840a0ad4"
      },
      "outputs": [
        {
          "output_type": "stream",
          "name": "stdout",
          "text": [
            "+--------------+--------------------+\n",
            "|    Metric    |       Score        |\n",
            "+--------------+--------------------+\n",
            "|   accuracy   | 0.8894152029578197 |\n",
            "|    recall    | 0.9365707270495157 |\n",
            "|  presicion   |  0.38841432369746  |\n",
            "|   f1 score   | 0.5491042866282789 |\n",
            "| f_beta score | 0.7304099912767813 |\n",
            "+--------------+--------------------+\n"
          ]
        },
        {
          "output_type": "display_data",
          "data": {
            "text/plain": [
              "<Figure size 576x576 with 2 Axes>"
            ],
            "image/png": "[encoded data removed]"
          },
          "metadata": {
            "needs_background": "light"
          }
        }
      ],
      "source": [
        "y_pred = 1*(net.forward(X_test_nn.float())>0.5)\n",
        "mh.model_evaluation(y_test_nn.detach().numpy(), y_pred.detach().numpy())"
      ]
    },
    {
      "cell_type": "markdown",
      "metadata": {
        "id": "28ViVAyCAdp_"
      },
      "source": [
        "#### upsampled data"
      ]
    },
    {
      "cell_type": "code",
      "execution_count": null,
      "metadata": {
        "id": "HS2o8dIaAdqA"
      },
      "outputs": [],
      "source": [
        "# converting data to torch tensors\n",
        "X_train_nn, y_train_nn, X_test_nn, y_test_nn, X_val_nn, y_val_nn = (torch.from_numpy(X_train_up.values), torch.from_numpy(y_train_up.values), \n",
        "                                                 torch.from_numpy(X_test.values), torch.from_numpy(y_test.values), \n",
        "                                                 torch.from_numpy(X_val.values), torch.from_numpy(y_val.values))\n",
        "\n",
        "\n",
        "batch_size = 1024\n",
        "y_train_nn = torch.reshape(y_train_nn, (y_train_nn.size()[0], 1))\n",
        "train_set = torch.cat((X_train_nn, y_train_nn), dim=1)\n",
        "\n",
        "# Shuffle the data before spliting so we wont get batches of all ones and all zeros\n",
        "train_set = train_set[torch.randperm(train_set.size()[0]),:].float()\n",
        "batches = torch.split(train_set, batch_size)"
      ]
    },
    {
      "cell_type": "code",
      "execution_count": null,
      "metadata": {
        "colab": {
          "base_uri": "https://localhost:8080/"
        },
        "id": "sIDFtzfhAdqA",
        "outputId": "81568097-35c4-494c-cb4f-69c4ff3f95df"
      },
      "outputs": [
        {
          "output_type": "stream",
          "name": "stderr",
          "text": [
            "epoch:   0%|          | 0/20 [00:00<?, ?it/s]\n",
            "batch:   0%|          | 0/1479 [00:00<?, ?it/s]\u001b[A\n",
            "batch:   3%|▎         | 42/1479 [00:00<00:03, 414.31it/s]\u001b[A\n",
            "batch:   7%|▋         | 109/1479 [00:00<00:02, 563.54it/s]\u001b[A\n",
            "batch:  11%|█         | 166/1479 [00:00<00:02, 539.15it/s]\u001b[A\n",
            "batch:  15%|█▌        | 227/1479 [00:00<00:02, 564.54it/s]\u001b[A\n",
            "batch:  19%|█▉        | 284/1479 [00:00<00:02, 556.90it/s]\u001b[A\n",
            "batch:  23%|██▎       | 344/1479 [00:00<00:01, 570.20it/s]\u001b[A\n",
            "batch:  27%|██▋       | 402/1479 [00:00<00:02, 528.56it/s]\u001b[A\n",
            "batch:  31%|███       | 456/1479 [00:00<00:02, 504.46it/s]\u001b[A\n",
            "batch:  34%|███▍      | 509/1479 [00:00<00:01, 510.34it/s]\u001b[A\n",
            "batch:  38%|███▊      | 561/1479 [00:01<00:01, 497.73it/s]\u001b[A\n",
            "batch:  42%|████▏     | 616/1479 [00:01<00:01, 512.11it/s]\u001b[A\n",
            "batch:  46%|████▌     | 679/1479 [00:01<00:01, 544.85it/s]\u001b[A\n",
            "batch:  50%|████▉     | 734/1479 [00:01<00:01, 541.86it/s]\u001b[A\n",
            "batch:  54%|█████▍    | 801/1479 [00:01<00:01, 556.66it/s]\u001b[A\n",
            "batch:  59%|█████▉    | 870/1479 [00:01<00:01, 593.70it/s]\u001b[A\n",
            "batch:  63%|██████▎   | 930/1479 [00:01<00:00, 564.34it/s]\u001b[A\n",
            "batch:  67%|██████▋   | 996/1479 [00:01<00:00, 590.62it/s]\u001b[A\n",
            "batch:  71%|███████▏  | 1056/1479 [00:01<00:00, 569.29it/s]\u001b[A\n",
            "batch:  76%|███████▌  | 1121/1479 [00:02<00:00, 568.34it/s]\u001b[A\n",
            "batch:  80%|███████▉  | 1179/1479 [00:02<00:00, 562.57it/s]\u001b[A\n",
            "batch:  84%|████████▍ | 1241/1479 [00:02<00:00, 560.29it/s]\u001b[A\n",
            "batch:  88%|████████▊ | 1308/1479 [00:02<00:00, 589.87it/s]\u001b[A\n",
            "batch:  92%|█████████▏| 1368/1479 [00:02<00:00, 564.33it/s]\u001b[A\n",
            "batch: 100%|██████████| 1479/1479 [00:02<00:00, 556.98it/s]\n",
            "epoch:   5%|▌         | 1/20 [00:02<00:50,  2.66s/it]\n",
            "batch:   0%|          | 0/1479 [00:00<?, ?it/s]\u001b[A\n",
            "batch:   3%|▎         | 47/1479 [00:00<00:03, 467.40it/s]\u001b[A\n",
            "batch:   7%|▋         | 107/1479 [00:00<00:02, 544.37it/s]\u001b[A\n",
            "batch:  11%|█         | 162/1479 [00:00<00:02, 527.16it/s]\u001b[A\n",
            "batch:  15%|█▌        | 229/1479 [00:00<00:02, 580.02it/s]\u001b[A\n",
            "batch:  19%|█▉        | 288/1479 [00:00<00:02, 542.59it/s]\u001b[A\n",
            "batch:  24%|██▍       | 352/1479 [00:00<00:01, 572.25it/s]\u001b[A\n",
            "batch:  28%|██▊       | 410/1479 [00:00<00:01, 563.98it/s]\u001b[A\n",
            "batch:  32%|███▏      | 476/1479 [00:00<00:01, 592.56it/s]\u001b[A\n",
            "batch:  36%|███▌      | 536/1479 [00:00<00:01, 563.89it/s]\u001b[A\n",
            "batch:  41%|████      | 601/1479 [00:01<00:01, 562.02it/s]\u001b[A\n",
            "batch:  45%|████▍     | 664/1479 [00:01<00:01, 581.26it/s]\u001b[A\n",
            "batch:  49%|████▉     | 723/1479 [00:01<00:01, 565.56it/s]\u001b[A\n",
            "batch:  53%|█████▎    | 790/1479 [00:01<00:01, 595.29it/s]\u001b[A\n",
            "batch:  57%|█████▋    | 850/1479 [00:01<00:01, 541.47it/s]\u001b[A\n",
            "batch:  61%|██████▏   | 906/1479 [00:01<00:01, 533.89it/s]\u001b[A\n",
            "batch:  65%|██████▍   | 961/1479 [00:01<00:00, 531.85it/s]\u001b[A\n",
            "batch:  69%|██████▉   | 1025/1479 [00:01<00:00, 560.77it/s]\u001b[A\n",
            "batch:  73%|███████▎  | 1082/1479 [00:01<00:00, 550.82it/s]\u001b[A\n",
            "batch:  78%|███████▊  | 1149/1479 [00:02<00:00, 583.92it/s]\u001b[A\n",
            "batch:  82%|████████▏ | 1208/1479 [00:02<00:00, 569.63it/s]\u001b[A\n",
            "batch:  86%|████████▌ | 1267/1479 [00:02<00:00, 575.00it/s]\u001b[A\n",
            "batch:  90%|████████▉ | 1325/1479 [00:02<00:00, 561.48it/s]\u001b[A\n",
            "batch:  93%|█████████▎| 1382/1479 [00:02<00:00, 561.99it/s]\u001b[A\n",
            "batch: 100%|██████████| 1479/1479 [00:02<00:00, 560.25it/s]\n",
            "epoch:  10%|█         | 2/20 [00:05<00:47,  2.66s/it]\n",
            "batch:   0%|          | 0/1479 [00:00<?, ?it/s]\u001b[A\n",
            "batch:   4%|▎         | 54/1479 [00:00<00:02, 539.47it/s]\u001b[A\n",
            "batch:   7%|▋         | 110/1479 [00:00<00:02, 547.93it/s]\u001b[A\n",
            "batch:  11%|█         | 165/1479 [00:00<00:02, 498.30it/s]\u001b[A\n",
            "batch:  15%|█▌        | 227/1479 [00:00<00:02, 542.70it/s]\u001b[A\n",
            "batch:  19%|█▉        | 282/1479 [00:00<00:02, 535.33it/s]\u001b[A\n",
            "batch:  23%|██▎       | 342/1479 [00:00<00:02, 555.31it/s]\u001b[A\n",
            "batch:  27%|██▋       | 398/1479 [00:00<00:01, 556.60it/s]\u001b[A\n",
            "batch:  31%|███       | 454/1479 [00:00<00:01, 542.29it/s]\u001b[A\n",
            "batch:  34%|███▍      | 509/1479 [00:00<00:01, 541.42it/s]\u001b[A\n",
            "batch:  38%|███▊      | 564/1479 [00:01<00:01, 519.18it/s]\u001b[A\n",
            "batch:  42%|████▏     | 623/1479 [00:01<00:01, 539.28it/s]\u001b[A\n",
            "batch:  46%|████▌     | 681/1479 [00:01<00:01, 525.04it/s]\u001b[A\n",
            "batch:  50%|█████     | 746/1479 [00:01<00:01, 559.19it/s]\u001b[A\n",
            "batch:  54%|█████▍    | 803/1479 [00:01<00:01, 540.97it/s]\u001b[A\n",
            "batch:  59%|█████▊    | 866/1479 [00:01<00:01, 566.15it/s]\u001b[A\n",
            "batch:  62%|██████▏   | 924/1479 [00:01<00:01, 540.16it/s]\u001b[A\n",
            "batch:  67%|██████▋   | 993/1479 [00:01<00:00, 580.52it/s]\u001b[A\n",
            "batch:  71%|███████   | 1052/1479 [00:01<00:00, 555.27it/s]\u001b[A\n",
            "batch:  75%|███████▌  | 1111/1479 [00:02<00:00, 564.75it/s]\u001b[A\n",
            "batch:  79%|███████▉  | 1168/1479 [00:02<00:00, 540.57it/s]\u001b[A\n",
            "batch:  83%|████████▎ | 1228/1479 [00:02<00:00, 556.75it/s]\u001b[A\n",
            "batch:  87%|████████▋ | 1285/1479 [00:02<00:00, 552.86it/s]\u001b[A\n",
            "batch:  91%|█████████ | 1345/1479 [00:02<00:00, 565.79it/s]\u001b[A\n",
            "batch:  95%|█████████▍| 1402/1479 [00:02<00:00, 551.44it/s]\u001b[A\n",
            "batch: 100%|██████████| 1479/1479 [00:02<00:00, 550.29it/s]\n",
            "epoch:  15%|█▌        | 3/20 [00:08<00:45,  2.68s/it]\n",
            "batch:   0%|          | 0/1479 [00:00<?, ?it/s]\u001b[A\n",
            "batch:   4%|▍         | 56/1479 [00:00<00:02, 556.66it/s]\u001b[A\n",
            "batch:   8%|▊         | 118/1479 [00:00<00:02, 589.66it/s]\u001b[A\n",
            "batch:  12%|█▏        | 177/1479 [00:00<00:02, 520.79it/s]\u001b[A\n",
            "batch:  16%|█▌        | 230/1479 [00:00<00:02, 515.30it/s]\u001b[A\n",
            "batch:  19%|█▉        | 282/1479 [00:00<00:02, 480.11it/s]\u001b[A\n",
            "batch:  23%|██▎       | 345/1479 [00:00<00:02, 526.01it/s]\u001b[A\n",
            "batch:  27%|██▋       | 401/1479 [00:00<00:02, 521.86it/s]\u001b[A\n",
            "batch:  32%|███▏      | 470/1479 [00:00<00:01, 570.44it/s]\u001b[A\n",
            "batch:  36%|███▌      | 528/1479 [00:00<00:01, 549.31it/s]\u001b[A\n",
            "batch:  40%|████      | 593/1479 [00:01<00:01, 577.81it/s]\u001b[A\n",
            "batch:  44%|████▍     | 652/1479 [00:01<00:01, 558.12it/s]\u001b[A\n",
            "batch:  48%|████▊     | 709/1479 [00:01<00:01, 549.71it/s]\u001b[A\n",
            "batch:  52%|█████▏    | 765/1479 [00:01<00:01, 530.36it/s]\u001b[A\n",
            "batch:  56%|█████▌    | 828/1479 [00:01<00:01, 557.77it/s]\u001b[A\n",
            "batch:  60%|█████▉    | 885/1479 [00:01<00:01, 546.86it/s]\u001b[A\n",
            "batch:  64%|██████▍   | 943/1479 [00:01<00:00, 555.53it/s]\u001b[A\n",
            "batch:  68%|██████▊   | 1001/1479 [00:01<00:00, 535.72it/s]\u001b[A\n",
            "batch:  72%|███████▏  | 1063/1479 [00:01<00:00, 556.93it/s]\u001b[A\n",
            "batch:  76%|███████▌  | 1121/1479 [00:02<00:00, 554.05it/s]\u001b[A\n",
            "batch:  80%|████████  | 1185/1479 [00:02<00:00, 577.39it/s]\u001b[A\n",
            "batch:  84%|████████▍ | 1243/1479 [00:02<00:00, 557.12it/s]\u001b[A\n",
            "batch:  88%|████████▊ | 1299/1479 [00:02<00:00, 548.74it/s]\u001b[A\n",
            "batch:  92%|█████████▏| 1361/1479 [00:02<00:00, 544.81it/s]\u001b[A\n",
            "batch: 100%|██████████| 1479/1479 [00:02<00:00, 551.28it/s]\n",
            "epoch:  20%|██        | 4/20 [00:10<00:42,  2.68s/it]\n",
            "batch:   0%|          | 0/1479 [00:00<?, ?it/s]\u001b[A\n",
            "batch:   3%|▎         | 51/1479 [00:00<00:02, 503.72it/s]\u001b[A\n",
            "batch:   8%|▊         | 114/1479 [00:00<00:02, 576.03it/s]\u001b[A\n",
            "batch:  12%|█▏        | 172/1479 [00:00<00:02, 549.15it/s]\u001b[A\n",
            "batch:  16%|█▌        | 237/1479 [00:00<00:02, 587.44it/s]\u001b[A\n",
            "batch:  20%|██        | 296/1479 [00:00<00:02, 558.99it/s]\u001b[A\n",
            "batch:  24%|██▍       | 353/1479 [00:00<00:02, 549.02it/s]\u001b[A\n",
            "batch:  28%|██▊       | 409/1479 [00:00<00:01, 537.96it/s]\u001b[A\n",
            "batch:  32%|███▏      | 473/1479 [00:00<00:01, 567.41it/s]\u001b[A\n",
            "batch:  36%|███▌      | 530/1479 [00:00<00:01, 549.98it/s]\u001b[A\n",
            "batch:  40%|███▉      | 589/1479 [00:01<00:01, 560.90it/s]\u001b[A\n",
            "batch:  44%|████▎     | 646/1479 [00:01<00:01, 541.30it/s]\u001b[A\n",
            "batch:  48%|████▊     | 711/1479 [00:01<00:01, 572.59it/s]\u001b[A\n",
            "batch:  52%|█████▏    | 769/1479 [00:01<00:01, 558.03it/s]\u001b[A\n",
            "batch:  56%|█████▋    | 833/1479 [00:01<00:01, 580.48it/s]\u001b[A\n",
            "batch:  60%|██████    | 892/1479 [00:01<00:01, 556.66it/s]\u001b[A\n",
            "batch:  64%|██████▍   | 952/1479 [00:01<00:00, 567.69it/s]\u001b[A\n",
            "batch:  68%|██████▊   | 1010/1479 [00:01<00:00, 557.01it/s]\u001b[A\n",
            "batch:  73%|███████▎  | 1076/1479 [00:01<00:00, 585.97it/s]\u001b[A\n",
            "batch:  77%|███████▋  | 1135/1479 [00:02<00:00, 566.60it/s]\u001b[A\n",
            "batch:  81%|████████  | 1201/1479 [00:02<00:00, 569.43it/s]\u001b[A\n",
            "batch:  85%|████████▌ | 1264/1479 [00:02<00:00, 586.08it/s]\u001b[A\n",
            "batch:  89%|████████▉ | 1323/1479 [00:02<00:00, 564.52it/s]\u001b[A\n",
            "batch:  94%|█████████▎| 1385/1479 [00:02<00:00, 579.69it/s]\u001b[A\n",
            "batch: 100%|██████████| 1479/1479 [00:02<00:00, 567.12it/s]\n",
            "epoch:  25%|██▌       | 5/20 [00:13<00:39,  2.66s/it]\n",
            "batch:   0%|          | 0/1479 [00:00<?, ?it/s]\u001b[A\n",
            "batch:   3%|▎         | 50/1479 [00:00<00:02, 495.88it/s]\u001b[A\n",
            "batch:   8%|▊         | 113/1479 [00:00<00:02, 572.89it/s]\u001b[A\n",
            "batch:  12%|█▏        | 171/1479 [00:00<00:02, 537.06it/s]\u001b[A\n",
            "batch:  15%|█▌        | 225/1479 [00:00<00:02, 537.63it/s]\u001b[A\n",
            "batch:  19%|█▉        | 281/1479 [00:00<00:02, 532.20it/s]\u001b[A\n",
            "batch:  23%|██▎       | 345/1479 [00:00<00:01, 567.29it/s]\u001b[A\n",
            "batch:  27%|██▋       | 402/1479 [00:00<00:01, 552.91it/s]\u001b[A\n",
            "batch:  31%|███▏      | 464/1479 [00:00<00:01, 571.78it/s]\u001b[A\n",
            "batch:  35%|███▌      | 522/1479 [00:00<00:01, 541.86it/s]\u001b[A\n",
            "batch:  39%|███▉      | 583/1479 [00:01<00:01, 560.67it/s]\u001b[A\n",
            "batch:  43%|████▎     | 641/1479 [00:01<00:01, 543.86it/s]\u001b[A\n",
            "batch:  48%|████▊     | 709/1479 [00:01<00:01, 582.76it/s]\u001b[A\n",
            "batch:  52%|█████▏    | 768/1479 [00:01<00:01, 564.49it/s]\u001b[A\n",
            "batch:  56%|█████▌    | 825/1479 [00:01<00:01, 545.96it/s]\u001b[A\n",
            "batch:  60%|█████▉    | 881/1479 [00:01<00:01, 530.43it/s]\u001b[A\n",
            "batch:  64%|██████▍   | 943/1479 [00:01<00:00, 554.29it/s]\u001b[A\n",
            "batch:  68%|██████▊   | 1001/1479 [00:01<00:00, 552.00it/s]\u001b[A\n",
            "batch:  72%|███████▏  | 1065/1479 [00:01<00:00, 577.15it/s]\u001b[A\n",
            "batch:  76%|███████▌  | 1124/1479 [00:02<00:00, 550.79it/s]\u001b[A\n",
            "batch:  80%|███████▉  | 1182/1479 [00:02<00:00, 557.37it/s]\u001b[A\n",
            "batch:  84%|████████▍ | 1241/1479 [00:02<00:00, 554.69it/s]\u001b[A\n",
            "batch:  88%|████████▊ | 1303/1479 [00:02<00:00, 573.19it/s]\u001b[A\n",
            "batch:  92%|█████████▏| 1361/1479 [00:02<00:00, 538.91it/s]\u001b[A\n",
            "batch: 100%|██████████| 1479/1479 [00:02<00:00, 556.70it/s]\n",
            "epoch:  30%|███       | 6/20 [00:15<00:37,  2.66s/it]\n",
            "batch:   0%|          | 0/1479 [00:00<?, ?it/s]\u001b[A\n",
            "batch:   3%|▎         | 51/1479 [00:00<00:02, 505.79it/s]\u001b[A\n",
            "batch:   8%|▊         | 111/1479 [00:00<00:02, 558.68it/s]\u001b[A\n",
            "batch:  11%|█▏        | 167/1479 [00:00<00:02, 536.30it/s]\u001b[A\n",
            "batch:  16%|█▌        | 233/1479 [00:00<00:02, 583.21it/s]\u001b[A\n",
            "batch:  20%|█▉        | 292/1479 [00:00<00:02, 535.62it/s]\u001b[A\n",
            "batch:  24%|██▍       | 360/1479 [00:00<00:01, 580.01it/s]\u001b[A\n",
            "batch:  28%|██▊       | 419/1479 [00:00<00:01, 567.18it/s]\u001b[A\n",
            "batch:  33%|███▎      | 481/1479 [00:00<00:01, 553.54it/s]\u001b[A\n",
            "batch:  37%|███▋      | 545/1479 [00:00<00:01, 578.07it/s]\u001b[A\n",
            "batch:  41%|████      | 604/1479 [00:01<00:01, 543.03it/s]\u001b[A\n",
            "batch:  45%|████▍     | 664/1479 [00:01<00:01, 557.46it/s]\u001b[A\n",
            "batch:  49%|████▊     | 721/1479 [00:01<00:01, 541.48it/s]\u001b[A\n",
            "batch:  53%|█████▎    | 781/1479 [00:01<00:01, 557.54it/s]\u001b[A\n",
            "batch:  57%|█████▋    | 838/1479 [00:01<00:01, 554.54it/s]\u001b[A\n",
            "batch:  60%|██████    | 894/1479 [00:01<00:01, 535.81it/s]\u001b[A\n",
            "batch:  65%|██████▍   | 961/1479 [00:01<00:00, 546.98it/s]\u001b[A\n",
            "batch:  69%|██████▉   | 1024/1479 [00:01<00:00, 568.76it/s]\u001b[A\n",
            "batch:  73%|███████▎  | 1082/1479 [00:01<00:00, 552.52it/s]\u001b[A\n",
            "batch:  77%|███████▋  | 1139/1479 [00:02<00:00, 555.95it/s]\u001b[A\n",
            "batch:  81%|████████  | 1200/1479 [00:02<00:00, 569.64it/s]\u001b[A\n",
            "batch:  85%|████████▌ | 1258/1479 [00:02<00:00, 551.26it/s]\u001b[A\n",
            "batch:  89%|████████▉ | 1319/1479 [00:02<00:00, 566.42it/s]\u001b[A\n",
            "batch:  93%|█████████▎| 1376/1479 [00:02<00:00, 549.50it/s]\u001b[A\n",
            "batch: 100%|██████████| 1479/1479 [00:02<00:00, 554.79it/s]\n",
            "epoch:  35%|███▌      | 7/20 [00:18<00:34,  2.67s/it]\n",
            "batch:   0%|          | 0/1479 [00:00<?, ?it/s]\u001b[A\n",
            "batch:   4%|▎         | 55/1479 [00:00<00:02, 544.32it/s]\u001b[A\n",
            "batch:   8%|▊         | 121/1479 [00:00<00:02, 555.57it/s]\u001b[A\n",
            "batch:  12%|█▏        | 177/1479 [00:00<00:02, 538.34it/s]\u001b[A\n",
            "batch:  16%|█▌        | 237/1479 [00:00<00:02, 560.60it/s]\u001b[A\n",
            "batch:  20%|█▉        | 294/1479 [00:00<00:02, 553.44it/s]\u001b[A\n",
            "batch:  24%|██▍       | 357/1479 [00:00<00:01, 578.33it/s]\u001b[A\n",
            "batch:  28%|██▊       | 415/1479 [00:00<00:01, 569.40it/s]\u001b[A\n",
            "batch:  32%|███▏      | 473/1479 [00:00<00:01, 570.12it/s]\u001b[A\n",
            "batch:  36%|███▌      | 531/1479 [00:00<00:01, 543.59it/s]\u001b[A\n",
            "batch:  40%|████      | 592/1479 [00:01<00:01, 562.54it/s]\u001b[A\n",
            "batch:  44%|████▍     | 649/1479 [00:01<00:01, 549.37it/s]\u001b[A\n",
            "batch:  48%|████▊     | 713/1479 [00:01<00:01, 575.13it/s]\u001b[A\n",
            "batch:  52%|█████▏    | 771/1479 [00:01<00:01, 561.90it/s]\u001b[A\n",
            "batch:  56%|█████▌    | 828/1479 [00:01<00:01, 562.81it/s]\u001b[A\n",
            "batch:  60%|█████▉    | 885/1479 [00:01<00:01, 541.76it/s]\u001b[A\n",
            "batch:  64%|██████▍   | 944/1479 [00:01<00:00, 554.39it/s]\u001b[A\n",
            "batch:  68%|██████▊   | 1001/1479 [00:01<00:00, 536.24it/s]\u001b[A\n",
            "batch:  72%|███████▏  | 1060/1479 [00:01<00:00, 550.26it/s]\u001b[A\n",
            "batch:  76%|███████▌  | 1121/1479 [00:02<00:00, 554.71it/s]\u001b[A\n",
            "batch:  80%|███████▉  | 1182/1479 [00:02<00:00, 569.77it/s]\u001b[A\n",
            "batch:  84%|████████▍ | 1240/1479 [00:02<00:00, 570.50it/s]\u001b[A\n",
            "batch:  88%|████████▊ | 1298/1479 [00:02<00:00, 557.04it/s]\u001b[A\n",
            "batch:  92%|█████████▏| 1360/1479 [00:02<00:00, 574.93it/s]\u001b[A\n",
            "batch: 100%|██████████| 1479/1479 [00:02<00:00, 560.46it/s]\n",
            "epoch:  40%|████      | 8/20 [00:21<00:31,  2.66s/it]\n",
            "batch:   0%|          | 0/1479 [00:00<?, ?it/s]\u001b[A\n",
            "batch:   3%|▎         | 51/1479 [00:00<00:02, 506.95it/s]\u001b[A\n",
            "batch:   8%|▊         | 114/1479 [00:00<00:02, 576.65it/s]\u001b[A\n",
            "batch:  12%|█▏        | 172/1479 [00:00<00:02, 530.27it/s]\u001b[A\n",
            "batch:  16%|█▌        | 234/1479 [00:00<00:02, 563.68it/s]\u001b[A\n",
            "batch:  20%|█▉        | 291/1479 [00:00<00:02, 528.87it/s]\u001b[A\n",
            "batch:  24%|██▍       | 352/1479 [00:00<00:02, 553.55it/s]\u001b[A\n",
            "batch:  28%|██▊       | 408/1479 [00:00<00:01, 548.86it/s]\u001b[A\n",
            "batch:  32%|███▏      | 471/1479 [00:00<00:01, 571.71it/s]\u001b[A\n",
            "batch:  36%|███▌      | 529/1479 [00:00<00:01, 545.10it/s]\u001b[A\n",
            "batch:  40%|███▉      | 590/1479 [00:01<00:01, 562.81it/s]\u001b[A\n",
            "batch:  44%|████▎     | 647/1479 [00:01<00:01, 552.84it/s]\u001b[A\n",
            "batch:  48%|████▊     | 710/1479 [00:01<00:01, 572.30it/s]\u001b[A\n",
            "batch:  52%|█████▏    | 768/1479 [00:01<00:01, 549.46it/s]\u001b[A\n",
            "batch:  56%|█████▌    | 827/1479 [00:01<00:01, 559.52it/s]\u001b[A\n",
            "batch:  60%|█████▉    | 884/1479 [00:01<00:01, 547.42it/s]\u001b[A\n",
            "batch:  64%|██████▍   | 953/1479 [00:01<00:00, 586.58it/s]\u001b[A\n",
            "batch:  68%|██████▊   | 1012/1479 [00:01<00:00, 558.06it/s]\u001b[A\n",
            "batch:  72%|███████▏  | 1071/1479 [00:01<00:00, 565.61it/s]\u001b[A\n",
            "batch:  76%|███████▋  | 1128/1479 [00:02<00:00, 550.83it/s]\u001b[A\n",
            "batch:  81%|████████  | 1194/1479 [00:02<00:00, 581.67it/s]\u001b[A\n",
            "batch:  85%|████████▍ | 1253/1479 [00:02<00:00, 565.39it/s]\u001b[A\n",
            "batch:  89%|████████▊ | 1310/1479 [00:02<00:00, 549.98it/s]\u001b[A\n",
            "batch:  92%|█████████▏| 1366/1479 [00:02<00:00, 545.78it/s]\u001b[A\n",
            "batch: 100%|██████████| 1479/1479 [00:02<00:00, 560.62it/s]\n",
            "epoch:  45%|████▌     | 9/20 [00:23<00:29,  2.66s/it]\n",
            "batch:   0%|          | 0/1479 [00:00<?, ?it/s]\u001b[A\n",
            "batch:   4%|▍         | 59/1479 [00:00<00:02, 585.85it/s]\u001b[A\n",
            "batch:   8%|▊         | 121/1479 [00:00<00:02, 557.66it/s]\u001b[A\n",
            "batch:  12%|█▏        | 184/1479 [00:00<00:02, 588.34it/s]\u001b[A\n",
            "batch:  16%|█▋        | 244/1479 [00:00<00:02, 556.42it/s]\u001b[A\n",
            "batch:  21%|██        | 311/1479 [00:00<00:01, 593.58it/s]\u001b[A\n",
            "batch:  25%|██▌       | 371/1479 [00:00<00:01, 574.37it/s]\u001b[A\n",
            "batch:  29%|██▉       | 429/1479 [00:00<00:01, 563.06it/s]\u001b[A\n",
            "batch:  33%|███▎      | 486/1479 [00:00<00:01, 553.87it/s]\u001b[A\n",
            "batch:  37%|███▋      | 551/1479 [00:00<00:01, 582.21it/s]\u001b[A\n",
            "batch:  41%|████      | 610/1479 [00:01<00:01, 572.46it/s]\u001b[A\n",
            "batch:  46%|████▌     | 679/1479 [00:01<00:01, 606.45it/s]\u001b[A\n",
            "batch:  50%|█████     | 740/1479 [00:01<00:01, 570.92it/s]\u001b[A\n",
            "batch:  54%|█████▍    | 798/1479 [00:01<00:01, 544.97it/s]\u001b[A\n",
            "batch:  58%|█████▊    | 854/1479 [00:01<00:01, 540.16it/s]\u001b[A\n",
            "batch:  62%|██████▏   | 916/1479 [00:01<00:01, 562.50it/s]\u001b[A\n",
            "batch:  66%|██████▌   | 973/1479 [00:01<00:00, 545.87it/s]\u001b[A\n",
            "batch:  70%|███████   | 1040/1479 [00:01<00:00, 580.61it/s]\u001b[A\n",
            "batch:  74%|███████▍  | 1099/1479 [00:01<00:00, 561.78it/s]\u001b[A\n",
            "batch:  78%|███████▊  | 1161/1479 [00:02<00:00, 557.56it/s]\u001b[A\n",
            "batch:  83%|████████▎ | 1227/1479 [00:02<00:00, 585.86it/s]\u001b[A\n",
            "batch:  87%|████████▋ | 1286/1479 [00:02<00:00, 545.86it/s]\u001b[A\n",
            "batch:  91%|█████████ | 1342/1479 [00:02<00:00, 547.18it/s]\u001b[A\n",
            "batch:  95%|█████████▍| 1400/1479 [00:02<00:00, 555.33it/s]\u001b[A\n",
            "batch: 100%|██████████| 1479/1479 [00:02<00:00, 563.42it/s]\n",
            "epoch:  50%|█████     | 10/20 [00:26<00:26,  2.65s/it]\n",
            "batch:   0%|          | 0/1479 [00:00<?, ?it/s]\u001b[A\n",
            "batch:   3%|▎         | 50/1479 [00:00<00:02, 495.67it/s]\u001b[A\n",
            "batch:   8%|▊         | 113/1479 [00:00<00:02, 573.84it/s]\u001b[A\n",
            "batch:  12%|█▏        | 171/1479 [00:00<00:02, 545.52it/s]\u001b[A\n",
            "batch:  16%|█▌        | 239/1479 [00:00<00:02, 594.68it/s]\u001b[A\n",
            "batch:  20%|██        | 299/1479 [00:00<00:02, 571.29it/s]\u001b[A\n",
            "batch:  24%|██▍       | 361/1479 [00:00<00:02, 558.54it/s]\u001b[A\n",
            "batch:  28%|██▊       | 420/1479 [00:00<00:01, 567.89it/s]\u001b[A\n",
            "batch:  33%|███▎      | 481/1479 [00:00<00:01, 553.63it/s]\u001b[A\n",
            "batch:  37%|███▋      | 547/1479 [00:00<00:01, 583.40it/s]\u001b[A\n",
            "batch:  41%|████      | 606/1479 [00:01<00:01, 571.05it/s]\u001b[A\n",
            "batch:  45%|████▍     | 664/1479 [00:01<00:01, 562.76it/s]\u001b[A\n",
            "batch:  49%|████▊     | 721/1479 [00:01<00:01, 557.54it/s]\u001b[A\n",
            "batch:  53%|█████▎    | 787/1479 [00:01<00:01, 586.20it/s]\u001b[A\n",
            "batch:  57%|█████▋    | 846/1479 [00:01<00:01, 561.30it/s]\u001b[A\n",
            "batch:  62%|██████▏   | 910/1479 [00:01<00:00, 582.15it/s]\u001b[A\n",
            "batch:  66%|██████▌   | 969/1479 [00:01<00:00, 556.77it/s]\u001b[A\n",
            "batch:  70%|██████▉   | 1034/1479 [00:01<00:00, 582.27it/s]\u001b[A\n",
            "batch:  74%|███████▍  | 1093/1479 [00:01<00:00, 570.30it/s]\u001b[A\n",
            "batch:  78%|███████▊  | 1157/1479 [00:02<00:00, 590.05it/s]\u001b[A\n",
            "batch:  82%|████████▏ | 1217/1479 [00:02<00:00, 541.03it/s]\u001b[A\n",
            "batch:  87%|████████▋ | 1281/1479 [00:02<00:00, 546.39it/s]\u001b[A\n",
            "batch:  91%|█████████ | 1347/1479 [00:02<00:00, 576.96it/s]\u001b[A\n",
            "batch:  95%|█████████▌| 1406/1479 [00:02<00:00, 570.84it/s]\u001b[A\n",
            "batch: 100%|██████████| 1479/1479 [00:02<00:00, 568.05it/s]\n",
            "epoch:  55%|█████▌    | 11/20 [00:29<00:23,  2.64s/it]\n",
            "batch:   0%|          | 0/1479 [00:00<?, ?it/s]\u001b[A\n",
            "batch:   4%|▎         | 54/1479 [00:00<00:02, 534.88it/s]\u001b[A\n",
            "batch:   8%|▊         | 121/1479 [00:00<00:02, 561.80it/s]\u001b[A\n",
            "batch:  12%|█▏        | 183/1479 [00:00<00:02, 585.74it/s]\u001b[A\n",
            "batch:  16%|█▋        | 242/1479 [00:00<00:02, 564.78it/s]\u001b[A\n",
            "batch:  20%|██        | 300/1479 [00:00<00:02, 569.15it/s]\u001b[A\n",
            "batch:  24%|██▍       | 359/1479 [00:00<00:01, 575.77it/s]\u001b[A\n",
            "batch:  28%|██▊       | 417/1479 [00:00<00:01, 559.07it/s]\u001b[A\n",
            "batch:  33%|███▎      | 481/1479 [00:00<00:01, 563.43it/s]\u001b[A\n",
            "batch:  36%|███▋      | 538/1479 [00:00<00:01, 564.64it/s]\u001b[A\n",
            "batch:  41%|████      | 599/1479 [00:01<00:01, 576.50it/s]\u001b[A\n",
            "batch:  44%|████▍     | 657/1479 [00:01<00:01, 559.40it/s]\u001b[A\n",
            "batch:  49%|████▊     | 721/1479 [00:01<00:01, 557.17it/s]\u001b[A\n",
            "batch:  53%|█████▎    | 783/1479 [00:01<00:01, 574.65it/s]\u001b[A\n",
            "batch:  57%|█████▋    | 841/1479 [00:01<00:01, 548.87it/s]\u001b[A\n",
            "batch:  61%|██████    | 897/1479 [00:01<00:01, 545.16it/s]\u001b[A\n",
            "batch:  65%|██████▍   | 961/1479 [00:01<00:00, 543.75it/s]\u001b[A\n",
            "batch:  69%|██████▉   | 1025/1479 [00:01<00:00, 569.34it/s]\u001b[A\n",
            "batch:  73%|███████▎  | 1083/1479 [00:01<00:00, 558.92it/s]\u001b[A\n",
            "batch:  77%|███████▋  | 1144/1479 [00:02<00:00, 572.26it/s]\u001b[A\n",
            "batch:  81%|████████▏ | 1202/1479 [00:02<00:00, 544.52it/s]\u001b[A\n",
            "batch:  86%|████████▌ | 1266/1479 [00:02<00:00, 569.98it/s]\u001b[A\n",
            "batch:  90%|████████▉ | 1324/1479 [00:02<00:00, 563.05it/s]\u001b[A\n",
            "batch:  94%|█████████▍| 1392/1479 [00:02<00:00, 594.87it/s]\u001b[A\n",
            "batch: 100%|██████████| 1479/1479 [00:02<00:00, 564.07it/s]\n",
            "epoch:  60%|██████    | 12/20 [00:31<00:21,  2.64s/it]\n",
            "batch:   0%|          | 0/1479 [00:00<?, ?it/s]\u001b[A\n",
            "batch:   3%|▎         | 49/1479 [00:00<00:02, 485.69it/s]\u001b[A\n",
            "batch:   8%|▊         | 115/1479 [00:00<00:02, 586.09it/s]\u001b[A\n",
            "batch:  12%|█▏        | 174/1479 [00:00<00:02, 567.81it/s]\u001b[A\n",
            "batch:  16%|█▌        | 237/1479 [00:00<00:02, 591.11it/s]\u001b[A\n",
            "batch:  20%|██        | 297/1479 [00:00<00:02, 551.62it/s]\u001b[A\n",
            "batch:  24%|██▍       | 356/1479 [00:00<00:01, 563.25it/s]\u001b[A\n",
            "batch:  28%|██▊       | 413/1479 [00:00<00:01, 556.70it/s]\u001b[A\n",
            "batch:  33%|███▎      | 481/1479 [00:00<00:01, 563.75it/s]\u001b[A\n",
            "batch:  37%|███▋      | 545/1479 [00:00<00:01, 585.67it/s]\u001b[A\n",
            "batch:  41%|████      | 604/1479 [00:01<00:01, 558.25it/s]\u001b[A\n",
            "batch:  45%|████▌     | 671/1479 [00:01<00:01, 589.02it/s]\u001b[A\n",
            "batch:  49%|████▉     | 731/1479 [00:01<00:01, 576.44it/s]\u001b[A\n",
            "batch:  54%|█████▎    | 794/1479 [00:01<00:01, 590.63it/s]\u001b[A\n",
            "batch:  58%|█████▊    | 854/1479 [00:01<00:01, 566.07it/s]\u001b[A\n",
            "batch:  62%|██████▏   | 917/1479 [00:01<00:00, 582.58it/s]\u001b[A\n",
            "batch:  66%|██████▌   | 976/1479 [00:01<00:00, 573.48it/s]\u001b[A\n",
            "batch:  70%|███████   | 1041/1479 [00:01<00:00, 576.44it/s]\u001b[A\n",
            "batch:  74%|███████▍  | 1099/1479 [00:01<00:00, 573.49it/s]\u001b[A\n",
            "batch:  78%|███████▊  | 1157/1479 [00:02<00:00, 571.22it/s]\u001b[A\n",
            "batch:  82%|████████▏ | 1215/1479 [00:02<00:00, 558.26it/s]\u001b[A\n",
            "batch:  87%|████████▋ | 1281/1479 [00:02<00:00, 564.54it/s]\u001b[A\n",
            "batch:  91%|█████████ | 1349/1479 [00:02<00:00, 595.23it/s]\u001b[A\n",
            "batch:  95%|█████████▌| 1409/1479 [00:02<00:00, 551.93it/s]\u001b[A\n",
            "batch: 100%|██████████| 1479/1479 [00:02<00:00, 569.99it/s]\n",
            "epoch:  65%|██████▌   | 13/20 [00:34<00:18,  2.63s/it]\n",
            "batch:   0%|          | 0/1479 [00:00<?, ?it/s]\u001b[A\n",
            "batch:   4%|▍         | 57/1479 [00:00<00:02, 569.67it/s]\u001b[A\n",
            "batch:   8%|▊         | 121/1479 [00:00<00:02, 569.26it/s]\u001b[A\n",
            "batch:  12%|█▏        | 178/1479 [00:00<00:02, 569.16it/s]\u001b[A\n",
            "batch:  16%|█▌        | 238/1479 [00:00<00:02, 580.60it/s]\u001b[A\n",
            "batch:  20%|██        | 297/1479 [00:00<00:02, 562.11it/s]\u001b[A\n",
            "batch:  24%|██▍       | 361/1479 [00:00<00:01, 566.77it/s]\u001b[A\n",
            "batch:  29%|██▊       | 422/1479 [00:00<00:01, 579.11it/s]\u001b[A\n",
            "batch:  33%|███▎      | 481/1479 [00:00<00:01, 562.81it/s]\u001b[A\n",
            "batch:  37%|███▋      | 542/1479 [00:00<00:01, 575.30it/s]\u001b[A\n",
            "batch:  41%|████      | 601/1479 [00:01<00:01, 555.10it/s]\u001b[A\n",
            "batch:  45%|████▌     | 668/1479 [00:01<00:01, 587.27it/s]\u001b[A\n",
            "batch:  49%|████▉     | 728/1479 [00:01<00:01, 555.95it/s]\u001b[A\n",
            "batch:  53%|█████▎    | 785/1479 [00:01<00:01, 532.33it/s]\u001b[A\n",
            "batch:  57%|█████▋    | 841/1479 [00:01<00:01, 518.33it/s]\u001b[A\n",
            "batch:  61%|██████    | 904/1479 [00:01<00:01, 547.89it/s]\u001b[A\n",
            "batch:  65%|██████▍   | 961/1479 [00:01<00:00, 528.75it/s]\u001b[A\n",
            "batch:  69%|██████▉   | 1020/1479 [00:01<00:00, 545.07it/s]\u001b[A\n",
            "batch:  73%|███████▎  | 1079/1479 [00:01<00:00, 557.77it/s]\u001b[A\n",
            "batch:  77%|███████▋  | 1136/1479 [00:02<00:00, 552.64it/s]\u001b[A\n",
            "batch:  81%|████████  | 1199/1479 [00:02<00:00, 574.32it/s]\u001b[A\n",
            "batch:  85%|████████▍ | 1257/1479 [00:02<00:00, 534.91it/s]\u001b[A\n",
            "batch:  89%|████████▉ | 1314/1479 [00:02<00:00, 543.74it/s]\u001b[A\n",
            "batch:  93%|█████████▎| 1369/1479 [00:02<00:00, 531.31it/s]\u001b[A\n",
            "batch: 100%|██████████| 1479/1479 [00:02<00:00, 554.36it/s]\n",
            "epoch:  70%|███████   | 14/20 [00:37<00:15,  2.65s/it]\n",
            "batch:   0%|          | 0/1479 [00:00<?, ?it/s]\u001b[A\n",
            "batch:   4%|▎         | 53/1479 [00:00<00:02, 525.21it/s]\u001b[A\n",
            "batch:   8%|▊         | 115/1479 [00:00<00:02, 579.98it/s]\u001b[A\n",
            "batch:  12%|█▏        | 174/1479 [00:00<00:02, 553.32it/s]\u001b[A\n",
            "batch:  16%|█▋        | 241/1479 [00:00<00:02, 567.68it/s]\u001b[A\n",
            "batch:  20%|██        | 300/1479 [00:00<00:02, 574.25it/s]\u001b[A\n",
            "batch:  24%|██▍       | 358/1479 [00:00<00:01, 563.84it/s]\u001b[A\n",
            "batch:  28%|██▊       | 415/1479 [00:00<00:02, 531.82it/s]\u001b[A\n",
            "batch:  32%|███▏      | 471/1479 [00:00<00:01, 539.15it/s]\u001b[A\n",
            "batch:  36%|███▌      | 526/1479 [00:00<00:01, 530.63it/s]\u001b[A\n",
            "batch:  40%|███▉      | 590/1479 [00:01<00:01, 561.28it/s]\u001b[A\n",
            "batch:  44%|████▎     | 647/1479 [00:01<00:01, 545.20it/s]\u001b[A\n",
            "batch:  48%|████▊     | 705/1479 [00:01<00:01, 553.43it/s]\u001b[A\n",
            "batch:  51%|█████▏    | 761/1479 [00:01<00:01, 528.67it/s]\u001b[A\n",
            "batch:  55%|█████▌    | 815/1479 [00:01<00:01, 527.87it/s]\u001b[A\n",
            "batch:  59%|█████▉    | 870/1479 [00:01<00:01, 532.61it/s]\u001b[A\n",
            "batch:  62%|██████▏   | 924/1479 [00:01<00:01, 516.06it/s]\u001b[A\n",
            "batch:  67%|██████▋   | 984/1479 [00:01<00:00, 539.18it/s]\u001b[A\n",
            "batch:  70%|███████   | 1039/1479 [00:01<00:00, 537.24it/s]\u001b[A\n",
            "batch:  74%|███████▍  | 1093/1479 [00:02<00:00, 530.86it/s]\u001b[A\n",
            "batch:  78%|███████▊  | 1159/1479 [00:02<00:00, 568.35it/s]\u001b[A\n",
            "batch:  82%|████████▏ | 1217/1479 [00:02<00:00, 554.52it/s]\u001b[A\n",
            "batch:  86%|████████▋ | 1277/1479 [00:02<00:00, 566.56it/s]\u001b[A\n",
            "batch:  90%|█████████ | 1334/1479 [00:02<00:00, 554.94it/s]\u001b[A\n",
            "batch:  94%|█████████▍| 1391/1479 [00:02<00:00, 558.28it/s]\u001b[A\n",
            "batch: 100%|██████████| 1479/1479 [00:02<00:00, 549.13it/s]\n",
            "epoch:  75%|███████▌  | 15/20 [00:39<00:13,  2.66s/it]\n",
            "batch:   0%|          | 0/1479 [00:00<?, ?it/s]\u001b[A\n",
            "batch:   4%|▎         | 52/1479 [00:00<00:02, 518.18it/s]\u001b[A\n",
            "batch:   7%|▋         | 110/1479 [00:00<00:02, 553.66it/s]\u001b[A\n",
            "batch:  11%|█         | 166/1479 [00:00<00:02, 535.96it/s]\u001b[A\n",
            "batch:  16%|█▌        | 232/1479 [00:00<00:02, 582.47it/s]\u001b[A\n",
            "batch:  20%|█▉        | 291/1479 [00:00<00:02, 549.90it/s]\u001b[A\n",
            "batch:  24%|██▍       | 352/1479 [00:00<00:01, 568.85it/s]\u001b[A\n",
            "batch:  28%|██▊       | 410/1479 [00:00<00:01, 548.82it/s]\u001b[A\n",
            "batch:  32%|███▏      | 470/1479 [00:00<00:01, 564.22it/s]\u001b[A\n",
            "batch:  36%|███▌      | 527/1479 [00:00<00:01, 552.97it/s]\u001b[A\n",
            "batch:  40%|███▉      | 586/1479 [00:01<00:01, 563.65it/s]\u001b[A\n",
            "batch:  43%|████▎     | 643/1479 [00:01<00:01, 554.22it/s]\u001b[A\n",
            "batch:  47%|████▋     | 699/1479 [00:01<00:01, 553.15it/s]\u001b[A\n",
            "batch:  51%|█████▏    | 759/1479 [00:01<00:01, 566.22it/s]\u001b[A\n",
            "batch:  55%|█████▌    | 816/1479 [00:01<00:01, 538.04it/s]\u001b[A\n",
            "batch:  59%|█████▉    | 872/1479 [00:01<00:01, 543.89it/s]\u001b[A\n",
            "batch:  63%|██████▎   | 927/1479 [00:01<00:01, 526.91it/s]\u001b[A\n",
            "batch:  67%|██████▋   | 995/1479 [00:01<00:00, 569.76it/s]\u001b[A\n",
            "batch:  71%|███████   | 1053/1479 [00:01<00:00, 525.91it/s]\u001b[A\n",
            "batch:  75%|███████▌  | 1112/1479 [00:02<00:00, 541.87it/s]\u001b[A\n",
            "batch:  79%|███████▉  | 1167/1479 [00:02<00:00, 530.89it/s]\u001b[A\n",
            "batch:  83%|████████▎ | 1228/1479 [00:02<00:00, 551.74it/s]\u001b[A\n",
            "batch:  87%|████████▋ | 1284/1479 [00:02<00:00, 541.53it/s]\u001b[A\n",
            "batch:  91%|█████████ | 1342/1479 [00:02<00:00, 550.74it/s]\u001b[A\n",
            "batch:  95%|█████████▍| 1401/1479 [00:02<00:00, 544.47it/s]\u001b[A\n",
            "batch: 100%|██████████| 1479/1479 [00:02<00:00, 551.07it/s]\n",
            "epoch:  80%|████████  | 16/20 [00:42<00:10,  2.67s/it]\n",
            "batch:   0%|          | 0/1479 [00:00<?, ?it/s]\u001b[A\n",
            "batch:   4%|▎         | 53/1479 [00:00<00:02, 528.87it/s]\u001b[A\n",
            "batch:   7%|▋         | 110/1479 [00:00<00:02, 551.18it/s]\u001b[A\n",
            "batch:  11%|█         | 166/1479 [00:00<00:02, 527.89it/s]\u001b[A\n",
            "batch:  15%|█▌        | 229/1479 [00:00<00:02, 565.58it/s]\u001b[A\n",
            "batch:  19%|█▉        | 286/1479 [00:00<00:02, 542.99it/s]\u001b[A\n",
            "batch:  23%|██▎       | 341/1479 [00:00<00:02, 534.97it/s]\u001b[A\n",
            "batch:  27%|██▋       | 401/1479 [00:00<00:02, 527.10it/s]\u001b[A\n",
            "batch:  31%|███       | 454/1479 [00:00<00:01, 526.86it/s]\u001b[A\n",
            "batch:  34%|███▍      | 510/1479 [00:00<00:01, 535.42it/s]\u001b[A\n",
            "batch:  38%|███▊      | 564/1479 [00:01<00:01, 519.13it/s]\u001b[A\n",
            "batch:  42%|████▏     | 628/1479 [00:01<00:01, 554.26it/s]\u001b[A\n",
            "batch:  46%|████▌     | 684/1479 [00:01<00:01, 535.82it/s]\u001b[A\n",
            "batch:  50%|█████     | 741/1479 [00:01<00:01, 543.99it/s]\u001b[A\n",
            "batch:  54%|█████▍    | 800/1479 [00:01<00:01, 556.27it/s]\u001b[A\n",
            "batch:  58%|█████▊    | 856/1479 [00:01<00:01, 531.13it/s]\u001b[A\n",
            "batch:  62%|██████▏   | 916/1479 [00:01<00:01, 549.62it/s]\u001b[A\n",
            "batch:  66%|██████▌   | 972/1479 [00:01<00:00, 531.27it/s]\u001b[A\n",
            "batch:  70%|███████   | 1038/1479 [00:01<00:00, 566.55it/s]\u001b[A\n",
            "batch:  74%|███████▍  | 1096/1479 [00:02<00:00, 554.09it/s]\u001b[A\n",
            "batch:  78%|███████▊  | 1161/1479 [00:02<00:00, 557.74it/s]\u001b[A\n",
            "batch:  82%|████████▏ | 1220/1479 [00:02<00:00, 565.66it/s]\u001b[A\n",
            "batch:  87%|████████▋ | 1281/1479 [00:02<00:00, 541.77it/s]\u001b[A\n",
            "batch:  91%|█████████ | 1345/1479 [00:02<00:00, 567.99it/s]\u001b[A\n",
            "batch:  95%|█████████▍| 1403/1479 [00:02<00:00, 541.49it/s]\u001b[A\n",
            "batch: 100%|██████████| 1479/1479 [00:02<00:00, 544.69it/s]\n",
            "epoch:  85%|████████▌ | 17/20 [00:45<00:08,  2.69s/it]\n",
            "batch:   0%|          | 0/1479 [00:00<?, ?it/s]\u001b[A\n",
            "batch:   3%|▎         | 48/1479 [00:00<00:02, 479.73it/s]\u001b[A\n",
            "batch:   8%|▊         | 111/1479 [00:00<00:02, 565.04it/s]\u001b[A\n",
            "batch:  11%|█▏        | 168/1479 [00:00<00:02, 525.69it/s]\u001b[A\n",
            "batch:  16%|█▌        | 230/1479 [00:00<00:02, 560.15it/s]\u001b[A\n",
            "batch:  19%|█▉        | 287/1479 [00:00<00:02, 531.69it/s]\u001b[A\n",
            "batch:  23%|██▎       | 346/1479 [00:00<00:02, 549.64it/s]\u001b[A\n",
            "batch:  27%|██▋       | 402/1479 [00:00<00:01, 540.45it/s]\u001b[A\n",
            "batch:  31%|███       | 462/1479 [00:00<00:01, 558.49it/s]\u001b[A\n",
            "batch:  35%|███▌      | 520/1479 [00:00<00:01, 563.86it/s]\u001b[A\n",
            "batch:  39%|███▉      | 577/1479 [00:01<00:01, 509.36it/s]\u001b[A\n",
            "batch:  43%|████▎     | 633/1479 [00:01<00:01, 522.11it/s]\u001b[A\n",
            "batch:  46%|████▋     | 687/1479 [00:01<00:01, 511.03it/s]\u001b[A\n",
            "batch:  51%|█████     | 748/1479 [00:01<00:01, 538.54it/s]\u001b[A\n",
            "batch:  54%|█████▍    | 803/1479 [00:01<00:01, 529.61it/s]\u001b[A\n",
            "batch:  59%|█████▊    | 868/1479 [00:01<00:01, 562.67it/s]\u001b[A\n",
            "batch:  63%|██████▎   | 925/1479 [00:01<00:01, 536.80it/s]\u001b[A\n",
            "batch:  67%|██████▋   | 990/1479 [00:01<00:00, 568.66it/s]\u001b[A\n",
            "batch:  71%|███████   | 1048/1479 [00:01<00:00, 542.64it/s]\u001b[A\n",
            "batch:  75%|███████▍  | 1109/1479 [00:02<00:00, 560.68it/s]\u001b[A\n",
            "batch:  79%|███████▉  | 1166/1479 [00:02<00:00, 550.26it/s]\u001b[A\n",
            "batch:  83%|████████▎ | 1222/1479 [00:02<00:00, 543.54it/s]\u001b[A\n",
            "batch:  87%|████████▋ | 1281/1479 [00:02<00:00, 537.54it/s]\u001b[A\n",
            "batch:  91%|█████████ | 1345/1479 [00:02<00:00, 565.32it/s]\u001b[A\n",
            "batch:  95%|█████████▍| 1402/1479 [00:02<00:00, 552.44it/s]\u001b[A\n",
            "batch: 100%|██████████| 1479/1479 [00:02<00:00, 546.13it/s]\n",
            "epoch:  90%|█████████ | 18/20 [00:48<00:05,  2.70s/it]\n",
            "batch:   0%|          | 0/1479 [00:00<?, ?it/s]\u001b[A\n",
            "batch:   4%|▎         | 52/1479 [00:00<00:02, 518.89it/s]\u001b[A\n",
            "batch:   8%|▊         | 112/1479 [00:00<00:02, 565.56it/s]\u001b[A\n",
            "batch:  11%|█▏        | 169/1479 [00:00<00:02, 524.57it/s]\u001b[A\n",
            "batch:  16%|█▌        | 232/1479 [00:00<00:02, 563.29it/s]\u001b[A\n",
            "batch:  20%|█▉        | 289/1479 [00:00<00:02, 532.88it/s]\u001b[A\n",
            "batch:  24%|██▎       | 348/1479 [00:00<00:02, 550.44it/s]\u001b[A\n",
            "batch:  27%|██▋       | 404/1479 [00:00<00:02, 534.28it/s]\u001b[A\n",
            "batch:  31%|███▏      | 464/1479 [00:00<00:01, 553.80it/s]\u001b[A\n",
            "batch:  35%|███▌      | 521/1479 [00:00<00:01, 541.01it/s]\u001b[A\n",
            "batch:  39%|███▉      | 580/1479 [00:01<00:01, 554.30it/s]\u001b[A\n",
            "batch:  43%|████▎     | 641/1479 [00:01<00:01, 540.80it/s]\u001b[A\n",
            "batch:  47%|████▋     | 699/1479 [00:01<00:01, 551.52it/s]\u001b[A\n",
            "batch:  51%|█████▏    | 759/1479 [00:01<00:01, 564.15it/s]\u001b[A\n",
            "batch:  55%|█████▌    | 816/1479 [00:01<00:01, 541.70it/s]\u001b[A\n",
            "batch:  59%|█████▉    | 874/1479 [00:01<00:01, 552.25it/s]\u001b[A\n",
            "batch:  63%|██████▎   | 930/1479 [00:01<00:01, 521.24it/s]\u001b[A\n",
            "batch:  67%|██████▋   | 990/1479 [00:01<00:00, 542.56it/s]\u001b[A\n",
            "batch:  71%|███████   | 1045/1479 [00:01<00:00, 525.38it/s]\u001b[A\n",
            "batch:  75%|███████▍  | 1105/1479 [00:02<00:00, 545.39it/s]\u001b[A\n",
            "batch:  78%|███████▊  | 1161/1479 [00:02<00:00, 532.36it/s]\u001b[A\n",
            "batch:  83%|████████▎ | 1222/1479 [00:02<00:00, 552.82it/s]\u001b[A\n",
            "batch:  86%|████████▋ | 1278/1479 [00:02<00:00, 549.02it/s]\u001b[A\n",
            "batch:  90%|█████████ | 1334/1479 [00:02<00:00, 526.17it/s]\u001b[A\n",
            "batch:  94%|█████████▍| 1397/1479 [00:02<00:00, 555.38it/s]\u001b[A\n",
            "batch: 100%|██████████| 1479/1479 [00:02<00:00, 541.78it/s]\n",
            "epoch:  95%|█████████▌| 19/20 [00:50<00:02,  2.71s/it]\n",
            "batch:   0%|          | 0/1479 [00:00<?, ?it/s]\u001b[A\n",
            "batch:   3%|▎         | 47/1479 [00:00<00:03, 466.80it/s]\u001b[A\n",
            "batch:   7%|▋         | 108/1479 [00:00<00:02, 550.43it/s]\u001b[A\n",
            "batch:  11%|█         | 164/1479 [00:00<00:02, 530.54it/s]\u001b[A\n",
            "batch:  15%|█▌        | 222/1479 [00:00<00:02, 548.69it/s]\u001b[A\n",
            "batch:  19%|█▊        | 277/1479 [00:00<00:02, 540.44it/s]\u001b[A\n",
            "batch:  22%|██▏       | 332/1479 [00:00<00:02, 503.48it/s]\u001b[A\n",
            "batch:  27%|██▋       | 395/1479 [00:00<00:02, 540.52it/s]\u001b[A\n",
            "batch:  30%|███       | 450/1479 [00:00<00:01, 520.66it/s]\u001b[A\n",
            "batch:  34%|███▍      | 507/1479 [00:00<00:01, 534.85it/s]\u001b[A\n",
            "batch:  38%|███▊      | 561/1479 [00:01<00:01, 513.76it/s]\u001b[A\n",
            "batch:  42%|████▏     | 620/1479 [00:01<00:01, 535.32it/s]\u001b[A\n",
            "batch:  46%|████▌     | 681/1479 [00:01<00:01, 536.29it/s]\u001b[A\n",
            "batch:  50%|█████     | 741/1479 [00:01<00:01, 552.90it/s]\u001b[A\n",
            "batch:  54%|█████▍    | 801/1479 [00:01<00:01, 547.09it/s]\u001b[A\n",
            "batch:  58%|█████▊    | 856/1479 [00:01<00:01, 537.63it/s]\u001b[A\n",
            "batch:  62%|██████▏   | 917/1479 [00:01<00:01, 557.03it/s]\u001b[A\n",
            "batch:  66%|██████▌   | 973/1479 [00:01<00:00, 538.88it/s]\u001b[A\n",
            "batch:  70%|██████▉   | 1028/1479 [00:01<00:00, 539.05it/s]\u001b[A\n",
            "batch:  73%|███████▎  | 1083/1479 [00:02<00:00, 529.78it/s]\u001b[A\n",
            "batch:  77%|███████▋  | 1142/1479 [00:02<00:00, 546.21it/s]\u001b[A\n",
            "batch:  81%|████████  | 1200/1479 [00:02<00:00, 555.03it/s]\u001b[A\n",
            "batch:  85%|████████▍ | 1256/1479 [00:02<00:00, 540.29it/s]\u001b[A\n",
            "batch:  89%|████████▊ | 1312/1479 [00:02<00:00, 544.99it/s]\u001b[A\n",
            "batch:  92%|█████████▏| 1367/1479 [00:02<00:00, 523.50it/s]\u001b[A\n",
            "batch: 100%|██████████| 1479/1479 [00:02<00:00, 536.67it/s]\n",
            "epoch: 100%|██████████| 20/20 [00:53<00:00,  2.68s/it]"
          ]
        },
        {
          "output_type": "stream",
          "name": "stdout",
          "text": [
            "Finished Training\n"
          ]
        },
        {
          "output_type": "stream",
          "name": "stderr",
          "text": [
            "\n"
          ]
        }
      ],
      "source": [
        "net = FC_Net([20, 30, 30, 1])\n",
        "loss_func = nn.BCELoss()\n",
        "#optimizer = optim.SGD(net.parameters(), lr = 0.01, momentum=0.9)\n",
        "optimizer = optim.Adam(net.parameters(), lr = 0.01, weight_decay = 0.)\n",
        "epoches = 20\n",
        "cost_train_list = []\n",
        "cost_val_list = []\n",
        "iter_list = []\n",
        "j = 0\n",
        "i = 0\n",
        " \n",
        "for epoch in tqdm(range(epoches), desc='epoch'):\n",
        "    j = i + j \n",
        "    for i, batch in enumerate(tqdm(batches, desc='batch')):\n",
        "        # get inputs and targets\n",
        "        inputs, targets = batch[:,:-1], batch[:, -1]\n",
        "        targets = torch.reshape(targets, (inputs.size()[0], 1))\n",
        "        y_val_nn = torch.reshape(y_val_nn, (X_val_nn.size()[0], 1))\n",
        "        # zero the parameters gradients \n",
        "        optimizer.zero_grad()\n",
        "\n",
        "        # forward + backward + optimize\n",
        "        outputs = net.forward(inputs)\n",
        "        cost = loss_func(outputs, targets)\n",
        "        cost.backward()\n",
        "        optimizer.step()\n",
        "\n",
        "        # get statistics\n",
        "        if i % 40 == 0: # print every 10 mini-batches\n",
        "            cost_val = loss_func(net.forward(X_val_nn.float()), y_val_nn.float())\n",
        "            cost_val_list.append(cost_val.detach().numpy())\n",
        "            cost_train_list.append(cost.detach().numpy())\n",
        "\n",
        "            iter_list.append(j+i+1)\n",
        "        \n",
        "\n",
        "print('Finished Training')"
      ]
    },
    {
      "cell_type": "code",
      "execution_count": null,
      "metadata": {
        "colab": {
          "base_uri": "https://localhost:8080/",
          "height": 629
        },
        "id": "4Zl1PnSkAdqA",
        "outputId": "a6be948d-b469-44a9-d430-e5db3d48f377"
      },
      "outputs": [
        {
          "output_type": "stream",
          "name": "stdout",
          "text": [
            "+--------------+---------------------+\n",
            "|    Metric    |        Score        |\n",
            "+--------------+---------------------+\n",
            "|   accuracy   |  0.8785293281159591 |\n",
            "|    recall    |  0.9500750238712318 |\n",
            "|  presicion   | 0.36686858045825654 |\n",
            "|   f1 score   |  0.5293357653138775 |\n",
            "| f_beta score |  0.720880167256619  |\n",
            "+--------------+---------------------+\n"
          ]
        },
        {
          "output_type": "display_data",
          "data": {
            "text/plain": [
              "<Figure size 576x576 with 2 Axes>"
            ],
            "image/png": "[encoded data removed]"
          },
          "metadata": {
            "needs_background": "light"
          }
        }
      ],
      "source": [
        "y_pred = 1*(net.forward(X_test_nn.float())>0.5)\n",
        "mh.model_evaluation(y_test_nn.detach().numpy(), y_pred.detach().numpy())"
      ]
    },
    {
      "cell_type": "markdown",
      "metadata": {
        "id": "GqR3UM5dAdqA"
      },
      "source": [
        "---\n",
        "### TabNet "
      ]
    },
    {
      "cell_type": "code",
      "execution_count": null,
      "metadata": {
        "colab": {
          "base_uri": "https://localhost:8080/"
        },
        "id": "YkM8Vf2dAdqA",
        "outputId": "e26062f0-cede-43c8-d00e-0e9a3495d908"
      },
      "outputs": [
        {
          "output_type": "stream",
          "name": "stderr",
          "text": [
            "/usr/local/lib/python3.8/dist-packages/pytorch_tabnet/abstract_model.py:75: UserWarning: Device used : cuda\n",
            "  warnings.warn(f\"Device used : {self.device}\")\n"
          ]
        }
      ],
      "source": [
        "# define the model\n",
        "TabNet = TabNetClassifier(n_d=8, n_a=8, n_steps=3, gamma=1.3, n_independent=2,\n",
        "                       optimizer_fn=torch.optim.Adam, # try with SGD\n",
        "                       optimizer_params=dict(lr=2e-2),\n",
        "                       scheduler_params={\"step_size\":10, # how to use learning rate scheduler\n",
        "                                         \"gamma\":1.3},\n",
        "                       scheduler_fn=torch.optim.lr_scheduler.StepLR,\n",
        "                       verbose=1, #for printing training log\n",
        "                       mask_type='sparsemax' # \"sparsemax\" or \"entmax\"\n",
        "                      )\n"
      ]
    },
    {
      "cell_type": "code",
      "execution_count": null,
      "metadata": {
        "colab": {
          "base_uri": "https://localhost:8080/"
        },
        "id": "YlieTTBQAdqA",
        "outputId": "f1bbe563-4979-4035-f610-c37cab3aace1"
      },
      "outputs": [
        {
          "output_type": "stream",
          "name": "stdout",
          "text": [
            "epoch 0  | loss: 0.1331  | train_balanced_accuracy: 0.77616 | valid_balanced_accuracy: 0.77675 |  0:00:48s\n",
            "epoch 1  | loss: 0.12233 | train_balanced_accuracy: 0.673   | valid_balanced_accuracy: 0.67067 |  0:01:34s\n",
            "epoch 2  | loss: 0.12002 | train_balanced_accuracy: 0.67426 | valid_balanced_accuracy: 0.67107 |  0:02:19s\n",
            "epoch 3  | loss: 0.11821 | train_balanced_accuracy: 0.67201 | valid_balanced_accuracy: 0.67019 |  0:03:05s\n",
            "epoch 4  | loss: 0.11718 | train_balanced_accuracy: 0.66802 | valid_balanced_accuracy: 0.66633 |  0:03:51s\n",
            "epoch 5  | loss: 0.11698 | train_balanced_accuracy: 0.66606 | valid_balanced_accuracy: 0.66444 |  0:04:37s\n",
            "epoch 6  | loss: 0.11696 | train_balanced_accuracy: 0.6654  | valid_balanced_accuracy: 0.66403 |  0:05:24s\n",
            "epoch 7  | loss: 0.11681 | train_balanced_accuracy: 0.6661  | valid_balanced_accuracy: 0.66468 |  0:06:10s\n",
            "epoch 8  | loss: 0.11667 | train_balanced_accuracy: 0.66562 | valid_balanced_accuracy: 0.66443 |  0:06:56s\n",
            "epoch 9  | loss: 0.11653 | train_balanced_accuracy: 0.66976 | valid_balanced_accuracy: 0.66767 |  0:07:41s\n",
            "epoch 10 | loss: 0.1177  | train_balanced_accuracy: 0.67215 | valid_balanced_accuracy: 0.66979 |  0:08:26s\n",
            "epoch 11 | loss: 0.11701 | train_balanced_accuracy: 0.67104 | valid_balanced_accuracy: 0.66896 |  0:09:11s\n",
            "epoch 12 | loss: 0.1166  | train_balanced_accuracy: 0.66388 | valid_balanced_accuracy: 0.66253 |  0:09:57s\n",
            "epoch 13 | loss: 0.11648 | train_balanced_accuracy: 0.67094 | valid_balanced_accuracy: 0.66936 |  0:10:42s\n",
            "epoch 14 | loss: 0.11637 | train_balanced_accuracy: 0.66586 | valid_balanced_accuracy: 0.66448 |  0:11:28s\n",
            "Stop training because you reached max_epochs = 15 with best_epoch = 0 and best_valid_balanced_accuracy = 0.77675\n"
          ]
        },
        {
          "output_type": "stream",
          "name": "stderr",
          "text": [
            "/usr/local/lib/python3.8/dist-packages/pytorch_tabnet/callbacks.py:172: UserWarning: Best weights from best epoch are automatically used!\n",
            "  warnings.warn(wrn_msg)\n"
          ]
        }
      ],
      "source": [
        "# fit the model \n",
        "TabNet.fit(\n",
        "    X_train.to_numpy(),y_train.to_numpy(),\n",
        "    eval_set=[(X_train.to_numpy(), y_train.to_numpy()), (X_val.to_numpy(), y_val.to_numpy())],\n",
        "    eval_name=['train', 'valid'],\n",
        "    eval_metric=['balanced_accuracy'], # accuracy\n",
        "    max_epochs=15,\n",
        "    patience=15,\n",
        "    weights=0,\n",
        "    batch_size=1024) #virtual_batch_size=128, used for Gohst Batch Normalization"
      ]
    },
    {
      "cell_type": "code",
      "execution_count": null,
      "metadata": {
        "colab": {
          "base_uri": "https://localhost:8080/",
          "height": 629
        },
        "id": "km3c633qAdqB",
        "outputId": "096ac22a-c080-424d-d730-94b69ec7d3c3"
      },
      "outputs": [
        {
          "output_type": "stream",
          "name": "stdout",
          "text": [
            "+--------------+--------------------+\n",
            "|    Metric    |       Score        |\n",
            "+--------------+--------------------+\n",
            "|   accuracy   | 0.9445899163454843 |\n",
            "|    recall    | 0.5847769744918838 |\n",
            "|  presicion   | 0.621935296677789  |\n",
            "|   f1 score   | 0.6027840269966254 |\n",
            "| f_beta score | 0.5918491316232709 |\n",
            "+--------------+--------------------+\n"
          ]
        },
        {
          "output_type": "display_data",
          "data": {
            "text/plain": [
              "<Figure size 576x576 with 2 Axes>"
            ],
            "image/png": "[encoded data removed]"
          },
          "metadata": {
            "needs_background": "light"
          }
        }
      ],
      "source": [
        "# orig-sample, accuracy, w=0\n",
        "y_pred = TabNet.predict(X_test.to_numpy())\n",
        "ax1 = mh.model_evaluation(y_test, y_pred)"
      ]
    },
    {
      "cell_type": "code",
      "execution_count": null,
      "metadata": {
        "colab": {
          "base_uri": "https://localhost:8080/",
          "height": 501
        },
        "id": "v9uWCWI8AdqB",
        "outputId": "4add3180-25b1-4991-d0ff-fa521385905d"
      },
      "outputs": [
        {
          "output_type": "execute_result",
          "data": {
            "text/plain": [
              "<matplotlib.axes._subplots.AxesSubplot at 0x7fd7c16ab7c0>"
            ]
          },
          "metadata": {},
          "execution_count": 23
        },
        {
          "output_type": "display_data",
          "data": {
            "text/plain": [
              "<Figure size 576x576 with 2 Axes>"
            ],
            "image/png": "[encoded data removed]"
          },
          "metadata": {
            "needs_background": "light"
          }
        }
      ],
      "source": [
        "# feature importance presented as a heat map. Features order is as presented is the dataset above\n",
        "feature_importances = TabNet.feature_importances_\n",
        "sns.heatmap(feature_importances.reshape(5,4))"
      ]
    },
    {
      "cell_type": "code",
      "execution_count": null,
      "metadata": {
        "colab": {
          "base_uri": "https://localhost:8080/"
        },
        "id": "eVEkcv7KAdqB",
        "outputId": "01876f37-1b54-4c3a-e84a-8d8ede061985"
      },
      "outputs": [
        {
          "output_type": "stream",
          "name": "stderr",
          "text": [
            "/usr/local/lib/python3.8/dist-packages/pytorch_tabnet/abstract_model.py:75: UserWarning: Device used : cuda\n",
            "  warnings.warn(f\"Device used : {self.device}\")\n"
          ]
        }
      ],
      "source": [
        "# define the model\n",
        "TabNet = TabNetClassifier(n_d=8, n_a=8, n_steps=3, gamma=1.3, n_independent=2,\n",
        "                       optimizer_fn=torch.optim.Adam, # try with SGD\n",
        "                       optimizer_params=dict(lr=2e-2),\n",
        "                       scheduler_params={\"step_size\":10, # how to use learning rate scheduler\n",
        "                                         \"gamma\":1.3},\n",
        "                       scheduler_fn=torch.optim.lr_scheduler.StepLR,\n",
        "                       verbose=1, #for printing training log\n",
        "                       mask_type='sparsemax' # \"sparsemax\" or \"entmax\"\n",
        "                      )\n"
      ]
    },
    {
      "cell_type": "code",
      "execution_count": null,
      "metadata": {
        "colab": {
          "base_uri": "https://localhost:8080/"
        },
        "id": "ZShKaDvCAdqB",
        "outputId": "fe3d82c5-4074-4923-ef0b-f0a8eea332cd"
      },
      "outputs": [
        {
          "output_type": "stream",
          "name": "stdout",
          "text": [
            "epoch 0  | loss: 0.25596 | train_balanced_accuracy: 0.90976 | valid_balanced_accuracy: 0.90987 |  0:00:48s\n",
            "epoch 1  | loss: 0.23646 | train_balanced_accuracy: 0.91155 | valid_balanced_accuracy: 0.91125 |  0:01:37s\n",
            "epoch 2  | loss: 0.23536 | train_balanced_accuracy: 0.91086 | valid_balanced_accuracy: 0.91199 |  0:02:23s\n",
            "epoch 3  | loss: 0.23384 | train_balanced_accuracy: 0.91133 | valid_balanced_accuracy: 0.91255 |  0:03:09s\n",
            "epoch 4  | loss: 0.23305 | train_balanced_accuracy: 0.91143 | valid_balanced_accuracy: 0.9123  |  0:03:54s\n",
            "epoch 5  | loss: 0.23267 | train_balanced_accuracy: 0.91232 | valid_balanced_accuracy: 0.91265 |  0:04:41s\n",
            "epoch 6  | loss: 0.23218 | train_balanced_accuracy: 0.9122  | valid_balanced_accuracy: 0.91235 |  0:05:29s\n",
            "epoch 7  | loss: 0.23258 | train_balanced_accuracy: 0.91229 | valid_balanced_accuracy: 0.91295 |  0:06:15s\n",
            "epoch 8  | loss: 0.23224 | train_balanced_accuracy: 0.91247 | valid_balanced_accuracy: 0.91299 |  0:07:02s\n",
            "epoch 9  | loss: 0.23164 | train_balanced_accuracy: 0.91152 | valid_balanced_accuracy: 0.91191 |  0:07:47s\n",
            "epoch 10 | loss: 0.2305  | train_balanced_accuracy: 0.91274 | valid_balanced_accuracy: 0.91297 |  0:08:33s\n",
            "epoch 11 | loss: 0.23128 | train_balanced_accuracy: 0.91252 | valid_balanced_accuracy: 0.91336 |  0:09:20s\n",
            "epoch 12 | loss: 0.23033 | train_balanced_accuracy: 0.9125  | valid_balanced_accuracy: 0.91302 |  0:10:07s\n",
            "epoch 13 | loss: 0.23143 | train_balanced_accuracy: 0.91252 | valid_balanced_accuracy: 0.91223 |  0:10:54s\n",
            "epoch 14 | loss: 0.23006 | train_balanced_accuracy: 0.91289 | valid_balanced_accuracy: 0.91335 |  0:11:40s\n",
            "Stop training because you reached max_epochs = 15 with best_epoch = 11 and best_valid_balanced_accuracy = 0.91336\n"
          ]
        },
        {
          "output_type": "stream",
          "name": "stderr",
          "text": [
            "/usr/local/lib/python3.8/dist-packages/pytorch_tabnet/callbacks.py:172: UserWarning: Best weights from best epoch are automatically used!\n",
            "  warnings.warn(wrn_msg)\n"
          ]
        }
      ],
      "source": [
        "# fit the model \n",
        "TabNet.fit(\n",
        "    X_train.to_numpy(),y_train.to_numpy(),\n",
        "    eval_set=[(X_train.to_numpy(), y_train.to_numpy()), (X_val.to_numpy(), y_val.to_numpy())],\n",
        "    eval_name=['train', 'valid'],\n",
        "    eval_metric=['balanced_accuracy'], # accuracy\n",
        "    max_epochs=15,\n",
        "    patience=15,\n",
        "    weights=1,\n",
        "    batch_size=1024) #virtual_batch_size=128, used for Gohst Batch Normalization"
      ]
    },
    {
      "cell_type": "code",
      "execution_count": null,
      "metadata": {
        "colab": {
          "base_uri": "https://localhost:8080/",
          "height": 629
        },
        "id": "z4QUyPVhAdqB",
        "outputId": "4051f7ae-e1e2-4740-b7fd-12adfc1898b5"
      },
      "outputs": [
        {
          "output_type": "stream",
          "name": "stdout",
          "text": [
            "+--------------+--------------------+\n",
            "|    Metric    |       Score        |\n",
            "+--------------+--------------------+\n",
            "|   accuracy   | 0.8784999068326027 |\n",
            "|    recall    | 0.9529395716818988 |\n",
            "|  presicion   | 0.3671045717288492 |\n",
            "|   f1 score   | 0.530025416334737  |\n",
            "| f_beta score | 0.7223807751168466 |\n",
            "+--------------+--------------------+\n"
          ]
        },
        {
          "output_type": "display_data",
          "data": {
            "text/plain": [
              "<Figure size 576x576 with 2 Axes>"
            ],
            "image/png": "[encoded data removed]"
          },
          "metadata": {
            "needs_background": "light"
          }
        }
      ],
      "source": [
        "# orig-sample, accuracy, w=1\n",
        "y_pred = TabNet.predict(X_test.to_numpy())\n",
        "mh.model_evaluation(y_test, y_pred)"
      ]
    },
    {
      "cell_type": "code",
      "execution_count": null,
      "metadata": {
        "colab": {
          "base_uri": "https://localhost:8080/",
          "height": 501
        },
        "id": "K4cDgP6BAdqB",
        "outputId": "ad93268b-2034-4054-9e39-0baac3dcfe1e"
      },
      "outputs": [
        {
          "output_type": "execute_result",
          "data": {
            "text/plain": [
              "<matplotlib.axes._subplots.AxesSubplot at 0x7fd7c1581f70>"
            ]
          },
          "metadata": {},
          "execution_count": 28
        },
        {
          "output_type": "display_data",
          "data": {
            "text/plain": [
              "<Figure size 576x576 with 2 Axes>"
            ],
            "image/png": "[encoded data removed]"
          },
          "metadata": {
            "needs_background": "light"
          }
        }
      ],
      "source": [
        "# feature importance presented as a heat map. Features order is as presented is the dataset above\n",
        "feature_importances = TabNet.feature_importances_\n",
        "sns.heatmap(feature_importances.reshape(5,4))"
      ]
    },
    {
      "cell_type": "code",
      "execution_count": 9,
      "metadata": {
        "colab": {
          "base_uri": "https://localhost:8080/"
        },
        "id": "ZQ1BRDgPAdqC",
        "outputId": "5395e9c7-cdd8-4fd7-88f2-6c8886cd9e35"
      },
      "outputs": [
        {
          "output_type": "stream",
          "name": "stderr",
          "text": [
            "/usr/local/lib/python3.8/dist-packages/pytorch_tabnet/abstract_model.py:75: UserWarning: Device used : cuda\n",
            "  warnings.warn(f\"Device used : {self.device}\")\n"
          ]
        }
      ],
      "source": [
        "# define the model\n",
        "TabNet = TabNetClassifier(n_d=8, n_a=8, n_steps=3, gamma=1.3, n_independent=2,\n",
        "                       optimizer_fn=torch.optim.Adam, # try with SGD\n",
        "                       optimizer_params=dict(lr=2e-2),\n",
        "                       scheduler_params={\"step_size\":10, # how to use learning rate scheduler\n",
        "                                         \"gamma\":1.3},\n",
        "                       scheduler_fn=torch.optim.lr_scheduler.StepLR,\n",
        "                       verbose=1, #for printing training log\n",
        "                       mask_type='sparsemax' # \"sparsemax\" or \"entmax\"\n",
        "                      )"
      ]
    },
    {
      "cell_type": "code",
      "execution_count": 10,
      "metadata": {
        "colab": {
          "base_uri": "https://localhost:8080/"
        },
        "id": "c1CJM_LZAdqC",
        "outputId": "4b05d875-3aeb-4306-8a10-03886bf2be93"
      },
      "outputs": [
        {
          "output_type": "stream",
          "name": "stdout",
          "text": [
            "epoch 0  | loss: 0.24305 | train_accuracy: 0.91071 | valid_accuracy: 0.86594 |  0:01:26s\n",
            "epoch 1  | loss: 0.23357 | train_accuracy: 0.91203 | valid_accuracy: 0.87823 |  0:02:48s\n",
            "epoch 2  | loss: 0.23244 | train_accuracy: 0.91227 | valid_accuracy: 0.88105 |  0:04:10s\n",
            "epoch 3  | loss: 0.23125 | train_accuracy: 0.91206 | valid_accuracy: 0.87902 |  0:05:31s\n",
            "epoch 4  | loss: 0.23103 | train_accuracy: 0.91231 | valid_accuracy: 0.87615 |  0:06:53s\n",
            "epoch 5  | loss: 0.23055 | train_accuracy: 0.91205 | valid_accuracy: 0.88259 |  0:08:16s\n",
            "epoch 6  | loss: 0.23391 | train_accuracy: 0.90905 | valid_accuracy: 0.8879  |  0:09:39s\n",
            "epoch 7  | loss: 0.23669 | train_accuracy: 0.91217 | valid_accuracy: 0.88214 |  0:11:00s\n",
            "epoch 8  | loss: 0.23234 | train_accuracy: 0.91191 | valid_accuracy: 0.87497 |  0:12:23s\n",
            "epoch 9  | loss: 0.23077 | train_accuracy: 0.91254 | valid_accuracy: 0.87798 |  0:13:46s\n",
            "epoch 10 | loss: 0.23528 | train_accuracy: 0.90864 | valid_accuracy: 0.86994 |  0:15:06s\n",
            "epoch 11 | loss: 0.23271 | train_accuracy: 0.91235 | valid_accuracy: 0.87747 |  0:16:28s\n",
            "epoch 12 | loss: 0.23119 | train_accuracy: 0.91293 | valid_accuracy: 0.88059 |  0:17:49s\n",
            "epoch 13 | loss: 0.23075 | train_accuracy: 0.91208 | valid_accuracy: 0.88556 |  0:19:09s\n",
            "epoch 14 | loss: 0.23047 | train_accuracy: 0.91269 | valid_accuracy: 0.88298 |  0:20:30s\n",
            "Stop training because you reached max_epochs = 15 with best_epoch = 6 and best_valid_accuracy = 0.8879\n"
          ]
        },
        {
          "output_type": "stream",
          "name": "stderr",
          "text": [
            "/usr/local/lib/python3.8/dist-packages/pytorch_tabnet/callbacks.py:172: UserWarning: Best weights from best epoch are automatically used!\n",
            "  warnings.warn(wrn_msg)\n"
          ]
        }
      ],
      "source": [
        "# fit the model \n",
        "TabNet.fit(\n",
        "    X_train_up.to_numpy(),y_train_up.to_numpy(),\n",
        "    eval_set=[(X_train_up.to_numpy(), y_train_up.to_numpy()), (X_val.to_numpy(), y_val.to_numpy())],\n",
        "    eval_name=['train', 'valid'],\n",
        "    eval_metric=['accuracy'], # try training by RECALL\n",
        "    max_epochs=15,\n",
        "    patience=15,\n",
        "    weights=0,\n",
        "    batch_size=1024) #virtual_batch_size=128, used for Gohst Batch Normalization"
      ]
    },
    {
      "cell_type": "code",
      "execution_count": 11,
      "metadata": {
        "id": "Hsv7xQgOAdqC",
        "colab": {
          "base_uri": "https://localhost:8080/",
          "height": 622
        },
        "outputId": "893e79c9-1608-4a48-a563-de1edf1a66a0"
      },
      "outputs": [
        {
          "output_type": "stream",
          "name": "stdout",
          "text": [
            "+--------------+--------------------+\n",
            "|    Metric    |       Score        |\n",
            "+--------------+--------------------+\n",
            "|   accuracy   | 0.8866888307001285 |\n",
            "|    recall    | 0.9307052243895785 |\n",
            "|  presicion   | 0.3818344619172869 |\n",
            "|   f1 score   | 0.5415079365079365 |\n",
            "| f_beta score | 0.7228826308986502 |\n",
            "+--------------+--------------------+\n"
          ]
        },
        {
          "output_type": "display_data",
          "data": {
            "text/plain": [
              "<Figure size 576x576 with 2 Axes>"
            ],
            "image/png": "[encoded data removed]"
          },
          "metadata": {
            "needs_background": "light"
          }
        }
      ],
      "source": [
        "# upsample, accuracy, w=0\n",
        "y_pred = TabNet.predict(X_test.to_numpy())\n",
        "mh.model_evaluation(y_test, y_pred)"
      ]
    },
    {
      "cell_type": "code",
      "execution_count": 12,
      "metadata": {
        "id": "0U5qTC2LAdqC",
        "colab": {
          "base_uri": "https://localhost:8080/",
          "height": 500
        },
        "outputId": "d5f908ea-4cfc-4c49-d07e-61cfea1c32a6"
      },
      "outputs": [
        {
          "output_type": "execute_result",
          "data": {
            "text/plain": [
              "<matplotlib.axes._subplots.AxesSubplot at 0x7f02a3ce4250>"
            ]
          },
          "metadata": {},
          "execution_count": 12
        },
        {
          "output_type": "display_data",
          "data": {
            "text/plain": [
              "<Figure size 576x576 with 2 Axes>"
            ],
            "image/png": "[encoded data removed]"
          },
          "metadata": {
            "needs_background": "light"
          }
        }
      ],
      "source": [
        "# feature importance presented as a heat map. Features order is as presented is the dataset above\n",
        "feature_importances = TabNet.feature_importances_\n",
        "sns.heatmap(feature_importances.reshape(5,4))"
      ]
    }
  ],
  "metadata": {
    "kernelspec": {
      "display_name": "base",
      "language": "python",
      "name": "python3"
    },
    "language_info": {
      "codemirror_mode": {
        "name": "ipython",
        "version": 3
      },
      "file_extension": ".py",
      "mimetype": "text/x-python",
      "name": "python",
      "nbconvert_exporter": "python",
      "pygments_lexer": "ipython3",
      "version": "3.8.8"
    },
    "orig_nbformat": 4,
    "vscode": {
      "interpreter": {
        "hash": "f1ab1c4420ee77e47dd796c1f0390d3d33956bdbe2bfd523727aad7b6e0efa70"
      }
    },
    "colab": {
      "provenance": []
    },
    "accelerator": "GPU",
    "gpuClass": "standard"
  },
  "nbformat": 4,
  "nbformat_minor": 0
}